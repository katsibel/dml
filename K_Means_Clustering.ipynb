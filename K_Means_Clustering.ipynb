{
  "cells": [
    {
      "cell_type": "markdown",
      "metadata": {
        "id": "z5feTLs0XtF3"
      },
      "source": [
        "GSAPP PLA6113 Wednesday February 23rd, 2022<br>\n",
        "Exploring Urban Data with ML\n",
        "# Clustering\n",
        "# K-Means Clustering\n",
        "__Definition:__<br>\n",
        "* k-means clustering partition n observations into k clusters in which each observation belongs to the cluster with the nearest mean, serving as a prototype of the cluster. \n",
        "* This results in a partitioning of the data space into Voronoi cells. \n",
        "* k-Means minimizes within-cluster variances (squared Euclidean distances)"
      ]
    },
    {
      "cell_type": "code",
      "execution_count": null,
      "metadata": {
        "colab": {
          "base_uri": "https://localhost:8080/"
        },
        "id": "Yzhwr_ieXtF7",
        "outputId": "81bb2802-c743-4721-8b5e-f2fa88544bfd"
      },
      "outputs": [
        {
          "output_type": "stream",
          "name": "stdout",
          "text": [
            "Collecting geopandas\n",
            "  Downloading geopandas-0.10.2-py2.py3-none-any.whl (1.0 MB)\n",
            "\u001b[K     |████████████████████████████████| 1.0 MB 17.4 MB/s \n",
            "\u001b[?25hCollecting fiona>=1.8\n",
            "  Downloading Fiona-1.8.21-cp37-cp37m-manylinux2014_x86_64.whl (16.7 MB)\n",
            "\u001b[K     |████████████████████████████████| 16.7 MB 356 kB/s \n",
            "\u001b[?25hCollecting pyproj>=2.2.0\n",
            "  Downloading pyproj-3.2.1-cp37-cp37m-manylinux2010_x86_64.whl (6.3 MB)\n",
            "\u001b[K     |████████████████████████████████| 6.3 MB 51.0 MB/s \n",
            "\u001b[?25hRequirement already satisfied: shapely>=1.6 in /usr/local/lib/python3.7/dist-packages (from geopandas) (1.8.1)\n",
            "Requirement already satisfied: pandas>=0.25.0 in /usr/local/lib/python3.7/dist-packages (from geopandas) (1.3.5)\n",
            "Requirement already satisfied: click>=4.0 in /usr/local/lib/python3.7/dist-packages (from fiona>=1.8->geopandas) (7.1.2)\n",
            "Collecting cligj>=0.5\n",
            "  Downloading cligj-0.7.2-py3-none-any.whl (7.1 kB)\n",
            "Collecting click-plugins>=1.0\n",
            "  Downloading click_plugins-1.1.1-py2.py3-none-any.whl (7.5 kB)\n",
            "Requirement already satisfied: six>=1.7 in /usr/local/lib/python3.7/dist-packages (from fiona>=1.8->geopandas) (1.15.0)\n",
            "Requirement already satisfied: attrs>=17 in /usr/local/lib/python3.7/dist-packages (from fiona>=1.8->geopandas) (21.4.0)\n",
            "Collecting munch\n",
            "  Downloading munch-2.5.0-py2.py3-none-any.whl (10 kB)\n",
            "Requirement already satisfied: certifi in /usr/local/lib/python3.7/dist-packages (from fiona>=1.8->geopandas) (2021.10.8)\n",
            "Requirement already satisfied: setuptools in /usr/local/lib/python3.7/dist-packages (from fiona>=1.8->geopandas) (57.4.0)\n",
            "Requirement already satisfied: numpy>=1.17.3 in /usr/local/lib/python3.7/dist-packages (from pandas>=0.25.0->geopandas) (1.21.5)\n",
            "Requirement already satisfied: python-dateutil>=2.7.3 in /usr/local/lib/python3.7/dist-packages (from pandas>=0.25.0->geopandas) (2.8.2)\n",
            "Requirement already satisfied: pytz>=2017.3 in /usr/local/lib/python3.7/dist-packages (from pandas>=0.25.0->geopandas) (2018.9)\n",
            "Installing collected packages: munch, cligj, click-plugins, pyproj, fiona, geopandas\n",
            "Successfully installed click-plugins-1.1.1 cligj-0.7.2 fiona-1.8.21 geopandas-0.10.2 munch-2.5.0 pyproj-3.2.1\n"
          ]
        }
      ],
      "source": [
        "import warnings\n",
        "warnings.filterwarnings(\"ignore\")\n",
        "\n",
        "!pip install geopandas\n",
        "\n",
        "import numpy as np\n",
        "import pandas as pd\n",
        "import geopandas as gpd\n",
        "import matplotlib.pyplot as plt\n",
        "%matplotlib inline"
      ]
    },
    {
      "cell_type": "markdown",
      "metadata": {
        "id": "6qrxhq1hXtF-"
      },
      "source": [
        "# 1. Simple example\n",
        "### (1) Load module and create random dataset"
      ]
    },
    {
      "cell_type": "code",
      "execution_count": null,
      "metadata": {
        "id": "8wducHUQXtF_"
      },
      "outputs": [],
      "source": [
        "from sklearn.datasets import make_blobs"
      ]
    },
    {
      "cell_type": "markdown",
      "source": [
        "If you have data points...with feature information and without label or target\n",
        "\n",
        "You need to Cluster method, make buckets, and assign a categorical variable.\n",
        "\n",
        "Clustering: \n",
        "- partitions data into groups\n",
        "\n",
        "Similarity is defined using a distance measure\n",
        "Using mostly **Euclidean distance**\n",
        "\n",
        "Goal of Clustering: Partioning data in \n",
        "1. Maximally homogenuous\n",
        "2. Maximally distinguished subsets\n",
        "\n",
        "Examples:\n",
        "- Cluster customers based on their purchase histories\n",
        "- ...Neiborhood level evacuation and recovery patterns in Houston, Texas \n",
        "\n",
        "\n",
        "Clustering Algo\n",
        "Partioning-data points are set to certain groups\n",
        "- K-Means Clustering: Find cluster centers that are representative of certain regions of the data. Assigns each data point to the closest cluster center. Set each cluster center as the mean of the data points that are assigned to it.\n",
        "Step 1: \n",
        "1. Specify how many clusters you are looking for\n",
        "2. Choose K Cluster centers\n",
        "3. Random points in the data space are assigned \n",
        "\n",
        "Step 2: \n",
        "1. Calculate which center each datapoint is closest to\n",
        "2. Each data point is assigned to the cluster center it is closest to\n",
        "\n",
        "Step 3: \n",
        "1. Calculate the new centers as means of the assigned clusters\n",
        "2. Iterate Step 2 and 3 until convergence\n",
        "3. Stop when cluster centers and assigned results no longer change\n",
        "\n",
        "Deterministic approaches\n",
        "Hierarchal\n",
        "- Agglomerative Clustering\n",
        "\n",
        "Density based\n",
        "- DBSCAN\n"
      ],
      "metadata": {
        "id": "gM0mZjGLgdaX"
      }
    },
    {
      "cell_type": "code",
      "execution_count": null,
      "metadata": {
        "id": "SGS5FT4mXtF_"
      },
      "outputs": [],
      "source": [
        "# create dataset (even though we will use only X, which is input features, but it comes with y variable from make_blobs)\n",
        "X, y = make_blobs(\n",
        "   n_samples=150, n_features=2, # create (150,2) shape data points - in other words, 150 rows and 2 columns\n",
        "   centers=3, cluster_std=0.5,\n",
        "   shuffle=True, random_state=0\n",
        ")"
      ]
    },
    {
      "cell_type": "code",
      "execution_count": null,
      "metadata": {
        "colab": {
          "base_uri": "https://localhost:8080/"
        },
        "id": "SEvJay4sXtGA",
        "outputId": "17d932c6-bc48-4102-c6c1-c47431248809"
      },
      "outputs": [
        {
          "output_type": "stream",
          "name": "stdout",
          "text": [
            "(150, 2)\n"
          ]
        }
      ],
      "source": [
        "print (X.shape)"
      ]
    },
    {
      "cell_type": "code",
      "execution_count": null,
      "metadata": {
        "colab": {
          "base_uri": "https://localhost:8080/",
          "height": 372
        },
        "id": "zazkYLWAXtGA",
        "outputId": "6b800c95-a313-4704-861b-a83349d07da6"
      },
      "outputs": [
        {
          "output_type": "execute_result",
          "data": {
            "text/plain": [
              "Text(0.5, 1.0, 'Scatter plot - two dimensional data')"
            ]
          },
          "metadata": {},
          "execution_count": 10
        },
        {
          "output_type": "display_data",
          "data": {
            "image/png": "[encoded data removed]",
            "text/plain": [
              "<Figure size 360x360 with 1 Axes>"
            ]
          },
          "metadata": {
            "needs_background": "light"
          }
        }
      ],
      "source": [
        "# Plot X (two dimensional data)\n",
        "plt.figure(figsize=(5,5))\n",
        "plt.scatter(X[:,0], X[:,1],\n",
        "           c='white', marker='o',\n",
        "           edgecolor='black', s=50)\n",
        "\n",
        "plt.xlabel('X1 feature', fontsize=13)\n",
        "plt.ylabel('X2 feature', fontsize=13)\n",
        "plt.title('Scatter plot - two dimensional data', fontsize=15)\n",
        "\n",
        "#there's three groups clustered"
      ]
    },
    {
      "cell_type": "markdown",
      "metadata": {
        "id": "gxg2EtzoXtGB"
      },
      "source": [
        "### (2) What is your intuitive 'K' here? Decide an initial K for K-Means clustering"
      ]
    },
    {
      "cell_type": "code",
      "source": [],
      "metadata": {
        "id": "VDdFs-m8m5G8"
      },
      "execution_count": null,
      "outputs": []
    },
    {
      "cell_type": "markdown",
      "metadata": {
        "id": "T29Jhmc2XtGB"
      },
      "source": [
        "### (3) Load module\n",
        "\n",
        "You can find various clustering algorithms privded by sklearn here (https://scikit-learn.org/stable/modules/clustering.html)"
      ]
    },
    {
      "cell_type": "code",
      "execution_count": null,
      "metadata": {
        "id": "6lM9TxojXtGC"
      },
      "outputs": [],
      "source": [
        "from sklearn.cluster import KMeans"
      ]
    },
    {
      "cell_type": "markdown",
      "metadata": {
        "id": "SyKcvUeGXtGD"
      },
      "source": [
        "### (4) Apply K-Means clustering algorithm to the sample dataset\n",
        "\n",
        "Reference: https://scikit-learn.org/stable/modules/clustering.html#k-means\n",
        "\n",
        "Syntax:\n",
        "    \n",
        "    YOUR_CLUSTERING_MODEL_NAME = KMeans(n_clusters=k, n_init=10, random_state=None)\n",
        "    \n",
        "    n_clusters int, default=8\n",
        "    - The number of clusters to form as well as the number of centroids to generate.\n",
        "    \n",
        "    n_init int, default=10\n",
        "    - Number of time the k-means algorithm will be run with different centroid seeds. The final results will be the best output of n_init consecutive runs in terms of inertia.\n",
        "    \n",
        "    random_state int, RandomState instance, default=None\n",
        "    Determines random number generation for centroid initialization.(for reproducibility)\n",
        "\n",
        "#### Build your K-Means clustering model"
      ]
    },
    {
      "cell_type": "code",
      "execution_count": null,
      "metadata": {
        "id": "M55b9N79XtGD"
      },
      "outputs": [],
      "source": [
        "km=KMeans(n_clusters=3, random_state=0) #random statements equal 0"
      ]
    },
    {
      "cell_type": "markdown",
      "metadata": {
        "id": "-ppUFaPtXtGE"
      },
      "source": [
        "#### Fit to your data to partition data points into certain groups"
      ]
    },
    {
      "cell_type": "code",
      "execution_count": null,
      "metadata": {
        "colab": {
          "base_uri": "https://localhost:8080/"
        },
        "id": "oykKBTZ-XtGE",
        "outputId": "9d4348ad-e42d-483f-94a0-c828d415d7b6"
      },
      "outputs": [
        {
          "output_type": "stream",
          "name": "stdout",
          "text": [
            "[0 2 2 2 0 2 2 0 1 2 0 1 1 2 2 1 1 0 1 0 2 0 2 2 1 0 0 2 1 0 1 1 1 1 2 0 0\n",
            " 0 2 2 1 1 2 0 0 0 1 2 1 2 0 2 2 0 0 1 2 0 1 2 1 1 1 1 2 1 2 0 2 2 2 0 0 2\n",
            " 0 2 2 1 1 2 0 0 2 2 0 0 0 1 1 0 0 2 0 2 0 2 1 1 0 0 0 0 1 0 0 2 1 2 2 2 1\n",
            " 2 0 1 2 1 2 2 1 1 2 0 2 2 0 0 1 0 1 1 1 1 0 1 1 1 2 1 0 1 2 2 0 0 1 1 1 1\n",
            " 0 0]\n"
          ]
        }
      ],
      "source": [
        "group_km=km.fit_predict(X)\n",
        "print(group_km)\n"
      ]
    },
    {
      "cell_type": "markdown",
      "metadata": {
        "id": "DTbEpNH5XtGF"
      },
      "source": [
        "#### Check the centroids of the clusters"
      ]
    },
    {
      "cell_type": "code",
      "execution_count": null,
      "metadata": {
        "colab": {
          "base_uri": "https://localhost:8080/"
        },
        "id": "cX-LJ7fkXtGF",
        "outputId": "58f3359c-f841-4689-d34f-a3f1ed7dba75"
      },
      "outputs": [
        {
          "output_type": "stream",
          "name": "stdout",
          "text": [
            "[[ 2.06521743  0.96137409]\n",
            " [-1.5947298   2.92236966]\n",
            " [ 0.9329651   4.35420712]]\n"
          ]
        }
      ],
      "source": [
        "print(km.cluster_centers_) #3 vectors"
      ]
    },
    {
      "cell_type": "markdown",
      "metadata": {
        "id": "_Tn56XTOXtGF"
      },
      "source": [
        "### (5) Plot with clustering result"
      ]
    },
    {
      "cell_type": "code",
      "execution_count": null,
      "metadata": {
        "colab": {
          "base_uri": "https://localhost:8080/",
          "height": 530
        },
        "id": "6XIVfHk8XtGG",
        "outputId": "4926ce5c-84ec-4b4a-c93c-b87430ab98c7"
      },
      "outputs": [
        {
          "output_type": "execute_result",
          "data": {
            "text/plain": [
              "Text(0.5, 1.0, 'Scatter plpt-K means clustering results')"
            ]
          },
          "metadata": {},
          "execution_count": 23
        },
        {
          "output_type": "display_data",
          "data": {
            "image/png": "[encoded data removed]",
            "text/plain": [
              "<Figure size 576x576 with 1 Axes>"
            ]
          },
          "metadata": {
            "needs_background": "light"
          }
        }
      ],
      "source": [
        "# Plot X (two dimensional data) with different colors based on clustering labels\n",
        "plt.figure(figsize=(8,8))\n",
        "plt.scatter(X[:,0], X[:,1], c=group_km, marker='o', edgecolor='black', s=50)\n",
        "\n",
        "# Plot the centroids of the clusters\n",
        "plt.scatter(km.cluster_centers_[:,0], km.cluster_centers_[:,1], marker='x', s=150, color='black')\n",
        "plt.title(\"scatter plot\")\n",
        "\n",
        "plt.xlabel('X1 feature')\n",
        "plt.ylabel('X2 feature')\n",
        "plt.title(\"Scatter plpt-K means clustering results\")\n"
      ]
    },
    {
      "cell_type": "markdown",
      "metadata": {
        "id": "gmZvzyicXtGG"
      },
      "source": [
        "## Label groups/clusters\n",
        "### a. Using a colorbar - this is the simplest way but it's tricky to show 'discrete' labels."
      ]
    },
    {
      "cell_type": "code",
      "execution_count": null,
      "metadata": {
        "colab": {
          "base_uri": "https://localhost:8080/",
          "height": 372
        },
        "id": "gGuurEB5XtGH",
        "outputId": "af18f164-6a4d-4246-bf95-eb07b7c0f420"
      },
      "outputs": [
        {
          "output_type": "execute_result",
          "data": {
            "text/plain": [
              "Text(0.5, 1.0, 'Scatter plot - two dimensional data')"
            ]
          },
          "metadata": {},
          "execution_count": 24
        },
        {
          "output_type": "display_data",
          "data": {
            "image/png": "[encoded data removed]",
            "text/plain": [
              "<Figure size 360x360 with 2 Axes>"
            ]
          },
          "metadata": {
            "needs_background": "light"
          }
        }
      ],
      "source": [
        "# Plot X (two dimensional data) with different colors based on clustering labels\n",
        "plt.figure(figsize=(5,5))\n",
        "plt.scatter(X[:,0], X[:,1],\n",
        "           c=group_km, \n",
        "           marker='o',\n",
        "           edgecolor='black', s=50,\n",
        "           )\n",
        "\n",
        "plt.colorbar()\n",
        "\n",
        "# Plot the centroids of the clusters\n",
        "# plt.scatter(km.cluster_centers_[:,0], km.cluster_centers_[:,1],\n",
        "#            s=150, marker='x',\n",
        "#            color='k')\n",
        "\n",
        "plt.xlabel('X1 feature', fontsize=13)\n",
        "plt.ylabel('X2 feature', fontsize=13)\n",
        "plt.title('Scatter plot - two dimensional data', fontsize=15)"
      ]
    },
    {
      "cell_type": "markdown",
      "metadata": {
        "id": "4wp1lVLHXtGH"
      },
      "source": [
        "### b. Create scatter plots iterratively"
      ]
    },
    {
      "cell_type": "code",
      "execution_count": null,
      "metadata": {
        "colab": {
          "base_uri": "https://localhost:8080/",
          "height": 337
        },
        "id": "26RfXphMXtGH",
        "outputId": "fc4a54bb-d522-4c63-9cf4-be7afb16c8e4"
      },
      "outputs": [
        {
          "output_type": "execute_result",
          "data": {
            "text/plain": [
              "<matplotlib.legend.Legend at 0x7f68b17137d0>"
            ]
          },
          "metadata": {},
          "execution_count": 25
        },
        {
          "output_type": "display_data",
          "data": {
            "image/png": "[encoded data removed]",
            "text/plain": [
              "<Figure size 360x360 with 1 Axes>"
            ]
          },
          "metadata": {
            "needs_background": "light"
          }
        }
      ],
      "source": [
        "plt.figure(figsize=(5,5))\n",
        "plt.scatter(X[group_km==0, 0], X[group_km==0, 1], s=50, c='c', label ='Group 0')\n",
        "plt.scatter(X[group_km==1, 0], X[group_km==1, 1], s=50, c='m', label ='Group 1')\n",
        "plt.scatter(X[group_km==2, 0], X[group_km==2, 1], s=50, c='y', label ='Group 2')\n",
        "plt.legend()"
      ]
    },
    {
      "cell_type": "code",
      "execution_count": null,
      "metadata": {
        "colab": {
          "base_uri": "https://localhost:8080/",
          "height": 337
        },
        "id": "RhkcB4ZBXtGI",
        "outputId": "d4c5acea-fc5b-4e1e-bbd2-5a93cdc07827"
      },
      "outputs": [
        {
          "output_type": "execute_result",
          "data": {
            "text/plain": [
              "<matplotlib.legend.Legend at 0x7f68b15fafd0>"
            ]
          },
          "metadata": {},
          "execution_count": 26
        },
        {
          "output_type": "display_data",
          "data": {
            "image/png": "[encoded data removed]",
            "text/plain": [
              "<Figure size 360x360 with 1 Axes>"
            ]
          },
          "metadata": {
            "needs_background": "light"
          }
        }
      ],
      "source": [
        "# or you can use for loops\n",
        "\n",
        "colors = ['c', 'm', 'y'] # you can use any other colors\n",
        "\n",
        "plt.figure(figsize=(5,5))\n",
        "for i in [0,1,2]:\n",
        "    plt.scatter(X[group_km==i, 0], X[group_km==i, 1], s=50, c=colors[i], label ='Group %s'%(i))\n",
        "plt.legend()"
      ]
    },
    {
      "cell_type": "markdown",
      "metadata": {
        "id": "sTYvxeWTXtGI"
      },
      "source": [
        "### c) Create dataframe and then create scatter plots iterratively\n",
        "* You need to firstly create pandas dataframe to store your features and label from the clustering result"
      ]
    },
    {
      "cell_type": "code",
      "execution_count": null,
      "metadata": {
        "id": "P1tam1HJXtGJ"
      },
      "outputs": [],
      "source": [
        "df = pd.DataFrame()\n",
        "df['x1'] = X[:,0]\n",
        "df['x2'] = X[:,1]\n",
        "df['label'] = group_km"
      ]
    },
    {
      "cell_type": "code",
      "execution_count": null,
      "metadata": {
        "colab": {
          "base_uri": "https://localhost:8080/",
          "height": 372
        },
        "id": "jATg0-lzXtGJ",
        "outputId": "94b33a3d-39da-4d0b-ce42-4b9fd274a284"
      },
      "outputs": [
        {
          "output_type": "execute_result",
          "data": {
            "text/plain": [
              "Text(0.5, 1.0, 'Scatter plot - two dimensional data')"
            ]
          },
          "metadata": {},
          "execution_count": 28
        },
        {
          "output_type": "display_data",
          "data": {
            "image/png": "[encoded data removed]",
            "text/plain": [
              "<Figure size 360x360 with 1 Axes>"
            ]
          },
          "metadata": {
            "needs_background": "light"
          }
        }
      ],
      "source": [
        "# Plot X (two dimensional data) with different colors based on clustering labels\n",
        "plt.figure(figsize=(5,5))\n",
        "plt.scatter(df['x1'][df['label']==0], df['x2'][df['label']==0], \n",
        "            c='c', marker='o', s=50, label='Group 0') # scatter plot of group 0\n",
        "plt.scatter(df['x1'][df['label']==1], df['x2'][df['label']==1], \n",
        "            c='m', marker='o', s=50, label='Group 1') # scatter plot of group 1\n",
        "plt.scatter(df['x1'][df['label']==2], df['x2'][df['label']==2], \n",
        "            c='y', marker='o',  s=50, label='Group 2') # scatter plot of group 2\n",
        "\n",
        "plt.legend()\n",
        "\n",
        "plt.xlabel('X1 feature', fontsize=13)\n",
        "plt.ylabel('X2 feature', fontsize=13)\n",
        "plt.title('Scatter plot - two dimensional data', fontsize=15)"
      ]
    },
    {
      "cell_type": "code",
      "execution_count": null,
      "metadata": {
        "colab": {
          "base_uri": "https://localhost:8080/",
          "height": 372
        },
        "id": "VQqr6QgcXtGK",
        "outputId": "601d1a22-52dc-450c-cb56-5c67e09cb4ae"
      },
      "outputs": [
        {
          "output_type": "execute_result",
          "data": {
            "text/plain": [
              "Text(0.5, 1.0, 'Scatter plot - two dimensional data')"
            ]
          },
          "metadata": {},
          "execution_count": 29
        },
        {
          "output_type": "display_data",
          "data": {
            "image/png": "[encoded data removed]",
            "text/plain": [
              "<Figure size 360x360 with 1 Axes>"
            ]
          },
          "metadata": {
            "needs_background": "light"
          }
        }
      ],
      "source": [
        "# or you can use for loops here as well\n",
        "\n",
        "colors = ['c', 'm', 'y'] # if you define your color list above, you don't need to specify again\n",
        "\n",
        "plt.figure(figsize=(5,5))\n",
        "for i in [0,1,2]:\n",
        "    plt.scatter(df['x1'][df['label']==i], df['x2'][df['label']==i], \n",
        "            c=colors[i], marker='o', s=50, label='Group %s'%(i))\n",
        "plt.legend()\n",
        "\n",
        "plt.xlabel('X1 feature', fontsize=13)\n",
        "plt.ylabel('X2 feature', fontsize=13)\n",
        "plt.title('Scatter plot - two dimensional data', fontsize=15)"
      ]
    },
    {
      "cell_type": "markdown",
      "metadata": {
        "id": "s-xR768mXtGK"
      },
      "source": [
        "### d) Using seaborn module (which is a python module for plotting)\n",
        "* fit_reg parameter should be _False_ - if True, fitted lines will be shown"
      ]
    },
    {
      "cell_type": "code",
      "execution_count": null,
      "metadata": {
        "colab": {
          "base_uri": "https://localhost:8080/",
          "height": 386
        },
        "id": "bmXMWaShXtGL",
        "outputId": "315f839b-7698-426e-9d56-723d83143c51"
      },
      "outputs": [
        {
          "output_type": "execute_result",
          "data": {
            "text/plain": [
              "<seaborn.axisgrid.FacetGrid at 0x7f68b1578110>"
            ]
          },
          "metadata": {},
          "execution_count": 30
        },
        {
          "output_type": "display_data",
          "data": {
            "image/png": "[encoded data removed]",
            "text/plain": [
              "<Figure size 402.375x360 with 1 Axes>"
            ]
          },
          "metadata": {
            "needs_background": "light"
          }
        }
      ],
      "source": [
        "import seaborn as sns\n",
        "sns.lmplot(data=df, x='x1', y='x2', hue='label', fit_reg=False, legend=True)"
      ]
    },
    {
      "cell_type": "markdown",
      "metadata": {
        "id": "e6sMryPLXtGL"
      },
      "source": [
        "### (6) What if we don't have any idea about 'K'? \n",
        "#### Let's use the elbow method to determine the optimal number of cluster _k_"
      ]
    },
    {
      "cell_type": "code",
      "execution_count": null,
      "metadata": {
        "id": "MYYp4MHGXtGL"
      },
      "outputs": [],
      "source": [
        "wss=[] #create a loop to make 4 cycles\n",
        "\n",
        "for i in range(1,11):\n",
        "  km=KMeans(n_clusters=i,\n",
        "            random_state=0)\n",
        "  km.fit(X)\n",
        "  wss.append(km.inertia_)"
      ]
    },
    {
      "cell_type": "code",
      "execution_count": null,
      "metadata": {
        "colab": {
          "base_uri": "https://localhost:8080/"
        },
        "id": "nJsEkNgoXtGL",
        "outputId": "dbf007bd-08f2-4672-8123-095ae5d54c37"
      },
      "outputs": [
        {
          "output_type": "stream",
          "name": "stdout",
          "text": [
            "[713.6998289434158, 283.4610178020931, 72.47601670996696, 62.8406176854222, 53.87202688131045, 47.03725972751367, 41.18648970744077, 35.40607032359241, 30.246853895434104, 27.766482866006285]\n"
          ]
        }
      ],
      "source": [
        "print(wss)"
      ]
    },
    {
      "cell_type": "code",
      "source": [
        "plt.figure(figsize=(8,4))\n",
        "plt.plot(range(1,11), wss, marker='o', c='red')\n",
        "plt.xlabel(\"Num of clusters\")\n",
        "plt.ylabel(\"Sum of squared distances of samples\")\n",
        "plt.title(\"Elbow Method\")\n",
        "\n",
        "#line represent line 1 through 10 "
      ],
      "metadata": {
        "colab": {
          "base_uri": "https://localhost:8080/",
          "height": 312
        },
        "id": "4i_8jhrnqn37",
        "outputId": "09c979cd-2942-4421-e5d8-efa411b1064e"
      },
      "execution_count": null,
      "outputs": [
        {
          "output_type": "execute_result",
          "data": {
            "text/plain": [
              "Text(0.5, 1.0, 'Elbow Method')"
            ]
          },
          "metadata": {},
          "execution_count": 36
        },
        {
          "output_type": "display_data",
          "data": {
            "image/png": "[encoded data removed]",
            "text/plain": [
              "<Figure size 576x288 with 1 Axes>"
            ]
          },
          "metadata": {
            "needs_background": "light"
          }
        }
      ]
    },
    {
      "cell_type": "markdown",
      "metadata": {
        "id": "S3DH8eZcXtGM"
      },
      "source": [
        "#### Let's use the Silhoutte method to determine the optimal number of cluster k"
      ]
    },
    {
      "cell_type": "code",
      "execution_count": null,
      "metadata": {
        "id": "uuEIoOPLXtGM"
      },
      "outputs": [],
      "source": [
        "from sklearn.metrics import silhouette_samples, silhouette_score"
      ]
    },
    {
      "cell_type": "code",
      "execution_count": null,
      "metadata": {
        "id": "rENNCkUPXtGM"
      },
      "outputs": [],
      "source": [
        "s_avg=[]\n",
        "\n",
        "for i in range(2,11):\n",
        "  km=KMeans(n_clusters=i, random_state=0)\n",
        "  y_km=km.fit_predict(X)\n",
        "  s_avg.append(silhouette_score(X, y_km))"
      ]
    },
    {
      "cell_type": "code",
      "execution_count": null,
      "metadata": {
        "colab": {
          "base_uri": "https://localhost:8080/"
        },
        "id": "D6fBnrSBXtGM",
        "outputId": "bc9a88e4-e891-46b1-c0b5-bdd96e7a2708"
      },
      "outputs": [
        {
          "output_type": "execute_result",
          "data": {
            "text/plain": [
              "[0.5848706144251782,\n",
              " 0.7143417887288687,\n",
              " 0.5768508858868746,\n",
              " 0.44772656258809407,\n",
              " 0.324958375651427,\n",
              " 0.3194955277398343,\n",
              " 0.33797787740062657,\n",
              " 0.3477912938132486,\n",
              " 0.35309019356011834]"
            ]
          },
          "metadata": {},
          "execution_count": 39
        }
      ],
      "source": [
        "s_avg"
      ]
    },
    {
      "cell_type": "code",
      "execution_count": null,
      "metadata": {
        "colab": {
          "base_uri": "https://localhost:8080/",
          "height": 317
        },
        "id": "N2mz6hQGXtGN",
        "outputId": "49572527-5249-4ec0-abcb-a4d23ac23f84"
      },
      "outputs": [
        {
          "output_type": "execute_result",
          "data": {
            "text/plain": [
              "Text(0.5, 1.0, 'Silhoutte test')"
            ]
          },
          "metadata": {},
          "execution_count": 40
        },
        {
          "output_type": "display_data",
          "data": {
            "image/png": "[encoded data removed]",
            "text/plain": [
              "<Figure size 576x288 with 1 Axes>"
            ]
          },
          "metadata": {
            "needs_background": "light"
          }
        }
      ],
      "source": [
        "plt.figure(figsize=(8,4))\n",
        "plt.plot(range(2,11), s_avg, marker='o', c='k')\n",
        "\n",
        "plt.xlabel('Number of clusters', fontsize=13)\n",
        "plt.ylabel('Silhoutte score', fontsize=13)\n",
        "plt.title('Silhoutte test', fontsize=15)"
      ]
    },
    {
      "cell_type": "markdown",
      "metadata": {
        "id": "Wftoqx-XXtGN"
      },
      "source": [
        "# 2. Real world data example\n",
        "## Neighborhood clustering based on demographic/socioeconomic chatacteristics\n",
        "\n",
        "### 1) Load data\n",
        "* Zipcode (modified by the city government) with racial/ethnic information"
      ]
    },
    {
      "cell_type": "code",
      "execution_count": null,
      "metadata": {
        "colab": {
          "base_uri": "https://localhost:8080/",
          "height": 206
        },
        "id": "9VcZZIOgXtGN",
        "outputId": "abddb30b-49eb-4737-dbe3-5bc683154461"
      },
      "outputs": [
        {
          "output_type": "execute_result",
          "data": {
            "text/html": [
              "\n",
              "  <div id=\"df-4a53d8b0-d1ba-4651-88d5-7d1e81422249\">\n",
              "    <div class=\"colab-df-container\">\n",
              "      <div>\n",
              "<style scoped>\n",
              "    .dataframe tbody tr th:only-of-type {\n",
              "        vertical-align: middle;\n",
              "    }\n",
              "\n",
              "    .dataframe tbody tr th {\n",
              "        vertical-align: top;\n",
              "    }\n",
              "\n",
              "    .dataframe thead th {\n",
              "        text-align: right;\n",
              "    }\n",
              "</style>\n",
              "<table border=\"1\" class=\"dataframe\">\n",
              "  <thead>\n",
              "    <tr style=\"text-align: right;\">\n",
              "      <th></th>\n",
              "      <th>MODZCTA</th>\n",
              "      <th>White</th>\n",
              "      <th>Black</th>\n",
              "      <th>Asian</th>\n",
              "      <th>Hispanic</th>\n",
              "    </tr>\n",
              "  </thead>\n",
              "  <tbody>\n",
              "    <tr>\n",
              "      <th>0</th>\n",
              "      <td>10001</td>\n",
              "      <td>55.105</td>\n",
              "      <td>3.08</td>\n",
              "      <td>38.945</td>\n",
              "      <td>7.08</td>\n",
              "    </tr>\n",
              "    <tr>\n",
              "      <th>1</th>\n",
              "      <td>10002</td>\n",
              "      <td>32.230</td>\n",
              "      <td>8.38</td>\n",
              "      <td>41.460</td>\n",
              "      <td>27.19</td>\n",
              "    </tr>\n",
              "    <tr>\n",
              "      <th>2</th>\n",
              "      <td>10003</td>\n",
              "      <td>75.910</td>\n",
              "      <td>5.81</td>\n",
              "      <td>13.480</td>\n",
              "      <td>8.24</td>\n",
              "    </tr>\n",
              "    <tr>\n",
              "      <th>3</th>\n",
              "      <td>10004</td>\n",
              "      <td>62.810</td>\n",
              "      <td>1.68</td>\n",
              "      <td>30.450</td>\n",
              "      <td>3.70</td>\n",
              "    </tr>\n",
              "    <tr>\n",
              "      <th>4</th>\n",
              "      <td>10005</td>\n",
              "      <td>73.420</td>\n",
              "      <td>2.50</td>\n",
              "      <td>16.950</td>\n",
              "      <td>6.88</td>\n",
              "    </tr>\n",
              "  </tbody>\n",
              "</table>\n",
              "</div>\n",
              "      <button class=\"colab-df-convert\" onclick=\"convertToInteractive('df-4a53d8b0-d1ba-4651-88d5-7d1e81422249')\"\n",
              "              title=\"Convert this dataframe to an interactive table.\"\n",
              "              style=\"display:none;\">\n",
              "        \n",
              "  <svg xmlns=\"http://www.w3.org/2000/svg\" height=\"24px\"viewBox=\"0 0 24 24\"\n",
              "       width=\"24px\">\n",
              "    <path d=\"M0 0h24v24H0V0z\" fill=\"none\"/>\n",
              "    <path d=\"M18.56 5.44l.94 2.06.94-2.06 2.06-.94-2.06-.94-.94-2.06-.94 2.06-2.06.94zm-11 1L8.5 8.5l.94-2.06 2.06-.94-2.06-.94L8.5 2.5l-.94 2.06-2.06.94zm10 10l.94 2.06.94-2.06 2.06-.94-2.06-.94-.94-2.06-.94 2.06-2.06.94z\"/><path d=\"M17.41 7.96l-1.37-1.37c-.4-.4-.92-.59-1.43-.59-.52 0-1.04.2-1.43.59L10.3 9.45l-7.72 7.72c-.78.78-.78 2.05 0 2.83L4 21.41c.39.39.9.59 1.41.59.51 0 1.02-.2 1.41-.59l7.78-7.78 2.81-2.81c.8-.78.8-2.07 0-2.86zM5.41 20L4 18.59l7.72-7.72 1.47 1.35L5.41 20z\"/>\n",
              "  </svg>\n",
              "      </button>\n",
              "      \n",
              "  <style>\n",
              "    .colab-df-container {\n",
              "      display:flex;\n",
              "      flex-wrap:wrap;\n",
              "      gap: 12px;\n",
              "    }\n",
              "\n",
              "    .colab-df-convert {\n",
              "      background-color: #E8F0FE;\n",
              "      border: none;\n",
              "      border-radius: 50%;\n",
              "      cursor: pointer;\n",
              "      display: none;\n",
              "      fill: #1967D2;\n",
              "      height: 32px;\n",
              "      padding: 0 0 0 0;\n",
              "      width: 32px;\n",
              "    }\n",
              "\n",
              "    .colab-df-convert:hover {\n",
              "      background-color: #E2EBFA;\n",
              "      box-shadow: 0px 1px 2px rgba(60, 64, 67, 0.3), 0px 1px 3px 1px rgba(60, 64, 67, 0.15);\n",
              "      fill: #174EA6;\n",
              "    }\n",
              "\n",
              "    [theme=dark] .colab-df-convert {\n",
              "      background-color: #3B4455;\n",
              "      fill: #D2E3FC;\n",
              "    }\n",
              "\n",
              "    [theme=dark] .colab-df-convert:hover {\n",
              "      background-color: #434B5C;\n",
              "      box-shadow: 0px 1px 3px 1px rgba(0, 0, 0, 0.15);\n",
              "      filter: drop-shadow(0px 1px 2px rgba(0, 0, 0, 0.3));\n",
              "      fill: #FFFFFF;\n",
              "    }\n",
              "  </style>\n",
              "\n",
              "      <script>\n",
              "        const buttonEl =\n",
              "          document.querySelector('#df-4a53d8b0-d1ba-4651-88d5-7d1e81422249 button.colab-df-convert');\n",
              "        buttonEl.style.display =\n",
              "          google.colab.kernel.accessAllowed ? 'block' : 'none';\n",
              "\n",
              "        async function convertToInteractive(key) {\n",
              "          const element = document.querySelector('#df-4a53d8b0-d1ba-4651-88d5-7d1e81422249');\n",
              "          const dataTable =\n",
              "            await google.colab.kernel.invokeFunction('convertToInteractive',\n",
              "                                                     [key], {});\n",
              "          if (!dataTable) return;\n",
              "\n",
              "          const docLinkHtml = 'Like what you see? Visit the ' +\n",
              "            '<a target=\"_blank\" href=https://colab.research.google.com/notebooks/data_table.ipynb>data table notebook</a>'\n",
              "            + ' to learn more about interactive tables.';\n",
              "          element.innerHTML = '';\n",
              "          dataTable['output_type'] = 'display_data';\n",
              "          await google.colab.output.renderOutput(dataTable, element);\n",
              "          const docLink = document.createElement('div');\n",
              "          docLink.innerHTML = docLinkHtml;\n",
              "          element.appendChild(docLink);\n",
              "        }\n",
              "      </script>\n",
              "    </div>\n",
              "  </div>\n",
              "  "
            ],
            "text/plain": [
              "  MODZCTA   White  Black   Asian  Hispanic\n",
              "0   10001  55.105   3.08  38.945      7.08\n",
              "1   10002  32.230   8.38  41.460     27.19\n",
              "2   10003  75.910   5.81  13.480      8.24\n",
              "3   10004  62.810   1.68  30.450      3.70\n",
              "4   10005  73.420   2.50  16.950      6.88"
            ]
          },
          "metadata": {},
          "execution_count": 41
        }
      ],
      "source": [
        "data = pd.read_csv('/content/zipcode_race.csv', dtype={'MODZCTA':str})\n",
        "data.head()"
      ]
    },
    {
      "cell_type": "markdown",
      "metadata": {
        "id": "BsWKkjh6XtGO"
      },
      "source": [
        "### 2) Take input variables"
      ]
    },
    {
      "cell_type": "code",
      "execution_count": null,
      "metadata": {
        "id": "zurh2LGbXtGO"
      },
      "outputs": [],
      "source": [
        "#makes some groups based on race and diversity\n",
        "\n",
        "X=data.iloc[:,1:]"
      ]
    },
    {
      "cell_type": "markdown",
      "metadata": {
        "id": "m31ENKekXtGO"
      },
      "source": [
        "### 3) Scale input variables\n",
        "* It's ok with working on raw variables because four features have the same scale (percentile, 0 to 100, 0 to 1, etc.).\n",
        "* But, you will need standardization if scales vary."
      ]
    },
    {
      "cell_type": "code",
      "execution_count": null,
      "metadata": {
        "id": "cLmSpCo4XtGP"
      },
      "outputs": [],
      "source": [
        "from sklearn.preprocessing import StandardScaler # z-score standardization (mean=0, std=1)\n",
        "\n",
        "sc = StandardScaler()\n",
        "X_scaled = sc.fit_transform(X)\n",
        "\n",
        "#standardize data"
      ]
    },
    {
      "cell_type": "code",
      "execution_count": null,
      "metadata": {
        "id": "8aerawzKXtGP"
      },
      "outputs": [],
      "source": []
    },
    {
      "cell_type": "markdown",
      "metadata": {
        "id": "rjpuY7X1XtGP"
      },
      "source": [
        "### 4) Apply K-Means clustering algorithm"
      ]
    },
    {
      "cell_type": "code",
      "execution_count": null,
      "metadata": {
        "id": "SAdgmdVvXtGP"
      },
      "outputs": [],
      "source": [
        "km=KMeans(n_clusters=3) #making cluster groups to account for the diverse groups"
      ]
    },
    {
      "cell_type": "code",
      "execution_count": null,
      "metadata": {
        "id": "pIXMrY08XtGQ"
      },
      "outputs": [],
      "source": [
        "group_km=km.fit_predict(X_scaled)"
      ]
    },
    {
      "cell_type": "code",
      "execution_count": null,
      "metadata": {
        "colab": {
          "base_uri": "https://localhost:8080/"
        },
        "id": "BtELzEXfXtGQ",
        "outputId": "c36a78e1-1f6a-4a6f-89c8-11d49a6799aa"
      },
      "outputs": [
        {
          "output_type": "execute_result",
          "data": {
            "text/plain": [
              "array([0, 0, 0, 0, 0, 0, 0, 0, 0, 0, 0, 0, 0, 0, 0, 0, 0, 0, 0, 0, 0, 0,\n",
              "       1, 1, 0, 2, 1, 2, 2, 2, 2, 2, 0, 1, 0, 1, 2, 0, 0, 0, 0, 0, 0, 0,\n",
              "       0, 2, 2, 0, 0, 0, 0, 0, 0, 0, 0, 0, 2, 2, 2, 2, 2, 2, 2, 2, 2, 2,\n",
              "       2, 2, 2, 0, 2, 1, 2, 2, 1, 1, 0, 2, 2, 2, 1, 0, 0, 0, 0, 0, 0, 0,\n",
              "       0, 0, 1, 0, 0, 2, 1, 1, 0, 1, 0, 1, 1, 0, 0, 1, 0, 0, 0, 0, 1, 0,\n",
              "       0, 0, 1, 1, 0, 0, 0, 0, 2, 1, 1, 0, 1, 2, 1, 1, 0, 0, 0, 0, 0, 0,\n",
              "       0, 0, 0, 0, 0, 0, 0, 2, 2, 0, 2, 0, 0, 0, 0, 0, 0, 0, 1, 1, 1, 0,\n",
              "       0, 2, 0, 2, 0, 0, 2, 1, 1, 0, 0, 0, 1, 0, 1, 1, 2, 1, 1, 1, 0, 0,\n",
              "       0], dtype=int32)"
            ]
          },
          "metadata": {},
          "execution_count": 46
        }
      ],
      "source": [
        "group_km"
      ]
    },
    {
      "cell_type": "markdown",
      "metadata": {
        "id": "ZPaoJx3gXtGQ"
      },
      "source": [
        "### 5) Add clustering labels to the initial dataframe and visualize"
      ]
    },
    {
      "cell_type": "code",
      "execution_count": null,
      "metadata": {
        "colab": {
          "base_uri": "https://localhost:8080/",
          "height": 206
        },
        "id": "hsL37lMxXtGQ",
        "outputId": "df99dec5-ac8a-4479-821d-ee390e8e1ea2"
      },
      "outputs": [
        {
          "output_type": "execute_result",
          "data": {
            "text/html": [
              "\n",
              "  <div id=\"df-b315ab24-b26a-4bd2-9035-d0f5adedd9de\">\n",
              "    <div class=\"colab-df-container\">\n",
              "      <div>\n",
              "<style scoped>\n",
              "    .dataframe tbody tr th:only-of-type {\n",
              "        vertical-align: middle;\n",
              "    }\n",
              "\n",
              "    .dataframe tbody tr th {\n",
              "        vertical-align: top;\n",
              "    }\n",
              "\n",
              "    .dataframe thead th {\n",
              "        text-align: right;\n",
              "    }\n",
              "</style>\n",
              "<table border=\"1\" class=\"dataframe\">\n",
              "  <thead>\n",
              "    <tr style=\"text-align: right;\">\n",
              "      <th></th>\n",
              "      <th>MODZCTA</th>\n",
              "      <th>White</th>\n",
              "      <th>Black</th>\n",
              "      <th>Asian</th>\n",
              "      <th>Hispanic</th>\n",
              "      <th>group</th>\n",
              "    </tr>\n",
              "  </thead>\n",
              "  <tbody>\n",
              "    <tr>\n",
              "      <th>0</th>\n",
              "      <td>10001</td>\n",
              "      <td>55.105</td>\n",
              "      <td>3.08</td>\n",
              "      <td>38.945</td>\n",
              "      <td>7.08</td>\n",
              "      <td>0</td>\n",
              "    </tr>\n",
              "    <tr>\n",
              "      <th>1</th>\n",
              "      <td>10002</td>\n",
              "      <td>32.230</td>\n",
              "      <td>8.38</td>\n",
              "      <td>41.460</td>\n",
              "      <td>27.19</td>\n",
              "      <td>0</td>\n",
              "    </tr>\n",
              "    <tr>\n",
              "      <th>2</th>\n",
              "      <td>10003</td>\n",
              "      <td>75.910</td>\n",
              "      <td>5.81</td>\n",
              "      <td>13.480</td>\n",
              "      <td>8.24</td>\n",
              "      <td>0</td>\n",
              "    </tr>\n",
              "    <tr>\n",
              "      <th>3</th>\n",
              "      <td>10004</td>\n",
              "      <td>62.810</td>\n",
              "      <td>1.68</td>\n",
              "      <td>30.450</td>\n",
              "      <td>3.70</td>\n",
              "      <td>0</td>\n",
              "    </tr>\n",
              "    <tr>\n",
              "      <th>4</th>\n",
              "      <td>10005</td>\n",
              "      <td>73.420</td>\n",
              "      <td>2.50</td>\n",
              "      <td>16.950</td>\n",
              "      <td>6.88</td>\n",
              "      <td>0</td>\n",
              "    </tr>\n",
              "  </tbody>\n",
              "</table>\n",
              "</div>\n",
              "      <button class=\"colab-df-convert\" onclick=\"convertToInteractive('df-b315ab24-b26a-4bd2-9035-d0f5adedd9de')\"\n",
              "              title=\"Convert this dataframe to an interactive table.\"\n",
              "              style=\"display:none;\">\n",
              "        \n",
              "  <svg xmlns=\"http://www.w3.org/2000/svg\" height=\"24px\"viewBox=\"0 0 24 24\"\n",
              "       width=\"24px\">\n",
              "    <path d=\"M0 0h24v24H0V0z\" fill=\"none\"/>\n",
              "    <path d=\"M18.56 5.44l.94 2.06.94-2.06 2.06-.94-2.06-.94-.94-2.06-.94 2.06-2.06.94zm-11 1L8.5 8.5l.94-2.06 2.06-.94-2.06-.94L8.5 2.5l-.94 2.06-2.06.94zm10 10l.94 2.06.94-2.06 2.06-.94-2.06-.94-.94-2.06-.94 2.06-2.06.94z\"/><path d=\"M17.41 7.96l-1.37-1.37c-.4-.4-.92-.59-1.43-.59-.52 0-1.04.2-1.43.59L10.3 9.45l-7.72 7.72c-.78.78-.78 2.05 0 2.83L4 21.41c.39.39.9.59 1.41.59.51 0 1.02-.2 1.41-.59l7.78-7.78 2.81-2.81c.8-.78.8-2.07 0-2.86zM5.41 20L4 18.59l7.72-7.72 1.47 1.35L5.41 20z\"/>\n",
              "  </svg>\n",
              "      </button>\n",
              "      \n",
              "  <style>\n",
              "    .colab-df-container {\n",
              "      display:flex;\n",
              "      flex-wrap:wrap;\n",
              "      gap: 12px;\n",
              "    }\n",
              "\n",
              "    .colab-df-convert {\n",
              "      background-color: #E8F0FE;\n",
              "      border: none;\n",
              "      border-radius: 50%;\n",
              "      cursor: pointer;\n",
              "      display: none;\n",
              "      fill: #1967D2;\n",
              "      height: 32px;\n",
              "      padding: 0 0 0 0;\n",
              "      width: 32px;\n",
              "    }\n",
              "\n",
              "    .colab-df-convert:hover {\n",
              "      background-color: #E2EBFA;\n",
              "      box-shadow: 0px 1px 2px rgba(60, 64, 67, 0.3), 0px 1px 3px 1px rgba(60, 64, 67, 0.15);\n",
              "      fill: #174EA6;\n",
              "    }\n",
              "\n",
              "    [theme=dark] .colab-df-convert {\n",
              "      background-color: #3B4455;\n",
              "      fill: #D2E3FC;\n",
              "    }\n",
              "\n",
              "    [theme=dark] .colab-df-convert:hover {\n",
              "      background-color: #434B5C;\n",
              "      box-shadow: 0px 1px 3px 1px rgba(0, 0, 0, 0.15);\n",
              "      filter: drop-shadow(0px 1px 2px rgba(0, 0, 0, 0.3));\n",
              "      fill: #FFFFFF;\n",
              "    }\n",
              "  </style>\n",
              "\n",
              "      <script>\n",
              "        const buttonEl =\n",
              "          document.querySelector('#df-b315ab24-b26a-4bd2-9035-d0f5adedd9de button.colab-df-convert');\n",
              "        buttonEl.style.display =\n",
              "          google.colab.kernel.accessAllowed ? 'block' : 'none';\n",
              "\n",
              "        async function convertToInteractive(key) {\n",
              "          const element = document.querySelector('#df-b315ab24-b26a-4bd2-9035-d0f5adedd9de');\n",
              "          const dataTable =\n",
              "            await google.colab.kernel.invokeFunction('convertToInteractive',\n",
              "                                                     [key], {});\n",
              "          if (!dataTable) return;\n",
              "\n",
              "          const docLinkHtml = 'Like what you see? Visit the ' +\n",
              "            '<a target=\"_blank\" href=https://colab.research.google.com/notebooks/data_table.ipynb>data table notebook</a>'\n",
              "            + ' to learn more about interactive tables.';\n",
              "          element.innerHTML = '';\n",
              "          dataTable['output_type'] = 'display_data';\n",
              "          await google.colab.output.renderOutput(dataTable, element);\n",
              "          const docLink = document.createElement('div');\n",
              "          docLink.innerHTML = docLinkHtml;\n",
              "          element.appendChild(docLink);\n",
              "        }\n",
              "      </script>\n",
              "    </div>\n",
              "  </div>\n",
              "  "
            ],
            "text/plain": [
              "  MODZCTA   White  Black   Asian  Hispanic  group\n",
              "0   10001  55.105   3.08  38.945      7.08      0\n",
              "1   10002  32.230   8.38  41.460     27.19      0\n",
              "2   10003  75.910   5.81  13.480      8.24      0\n",
              "3   10004  62.810   1.68  30.450      3.70      0\n",
              "4   10005  73.420   2.50  16.950      6.88      0"
            ]
          },
          "metadata": {},
          "execution_count": 47
        }
      ],
      "source": [
        "data['group']=group_km\n",
        "data.head()"
      ]
    },
    {
      "cell_type": "code",
      "execution_count": null,
      "metadata": {
        "colab": {
          "base_uri": "https://localhost:8080/",
          "height": 607
        },
        "id": "ksArzXchXtGR",
        "outputId": "9004d836-bd2e-4920-84d9-dc3c41b7d6cb"
      },
      "outputs": [
        {
          "output_type": "error",
          "ename": "DriverError",
          "evalue": "ignored",
          "traceback": [
            "\u001b[0;31m---------------------------------------------------------------------------\u001b[0m",
            "\u001b[0;31mCPLE_OpenFailedError\u001b[0m                      Traceback (most recent call last)",
            "\u001b[0;32mfiona/_shim.pyx\u001b[0m in \u001b[0;36mfiona._shim.gdal_open_vector\u001b[0;34m()\u001b[0m\n",
            "\u001b[0;32mfiona/_err.pyx\u001b[0m in \u001b[0;36mfiona._err.exc_wrap_pointer\u001b[0;34m()\u001b[0m\n",
            "\u001b[0;31mCPLE_OpenFailedError\u001b[0m: '/vsizip//content/data_export (1).zip' not recognized as a supported file format.",
            "\nDuring handling of the above exception, another exception occurred:\n",
            "\u001b[0;31mDriverError\u001b[0m                               Traceback (most recent call last)",
            "\u001b[0;32m<ipython-input-49-695c6954f73d>\u001b[0m in \u001b[0;36m<module>\u001b[0;34m()\u001b[0m\n\u001b[0;32m----> 1\u001b[0;31m \u001b[0mzipcode\u001b[0m\u001b[0;34m=\u001b[0m\u001b[0mgpd\u001b[0m\u001b[0;34m.\u001b[0m\u001b[0mread_file\u001b[0m\u001b[0;34m(\u001b[0m\u001b[0;34m\"/content/data_export (1).zip\"\u001b[0m\u001b[0;34m)\u001b[0m\u001b[0;34m\u001b[0m\u001b[0;34m\u001b[0m\u001b[0m\n\u001b[0m",
            "\u001b[0;32m/usr/local/lib/python3.7/dist-packages/geopandas/io/file.py\u001b[0m in \u001b[0;36m_read_file\u001b[0;34m(filename, bbox, mask, rows, **kwargs)\u001b[0m\n\u001b[1;32m    199\u001b[0m \u001b[0;34m\u001b[0m\u001b[0m\n\u001b[1;32m    200\u001b[0m     \u001b[0;32mwith\u001b[0m \u001b[0mfiona_env\u001b[0m\u001b[0;34m(\u001b[0m\u001b[0;34m)\u001b[0m\u001b[0;34m:\u001b[0m\u001b[0;34m\u001b[0m\u001b[0;34m\u001b[0m\u001b[0m\n\u001b[0;32m--> 201\u001b[0;31m         \u001b[0;32mwith\u001b[0m \u001b[0mreader\u001b[0m\u001b[0;34m(\u001b[0m\u001b[0mpath_or_bytes\u001b[0m\u001b[0;34m,\u001b[0m \u001b[0;34m**\u001b[0m\u001b[0mkwargs\u001b[0m\u001b[0;34m)\u001b[0m \u001b[0;32mas\u001b[0m \u001b[0mfeatures\u001b[0m\u001b[0;34m:\u001b[0m\u001b[0;34m\u001b[0m\u001b[0;34m\u001b[0m\u001b[0m\n\u001b[0m\u001b[1;32m    202\u001b[0m \u001b[0;34m\u001b[0m\u001b[0m\n\u001b[1;32m    203\u001b[0m             \u001b[0;31m# In a future Fiona release the crs attribute of features will\u001b[0m\u001b[0;34m\u001b[0m\u001b[0;34m\u001b[0m\u001b[0;34m\u001b[0m\u001b[0m\n",
            "\u001b[0;32m/usr/local/lib/python3.7/dist-packages/fiona/env.py\u001b[0m in \u001b[0;36mwrapper\u001b[0;34m(*args, **kwargs)\u001b[0m\n\u001b[1;32m    406\u001b[0m     \u001b[0;32mdef\u001b[0m \u001b[0mwrapper\u001b[0m\u001b[0;34m(\u001b[0m\u001b[0;34m*\u001b[0m\u001b[0margs\u001b[0m\u001b[0;34m,\u001b[0m \u001b[0;34m**\u001b[0m\u001b[0mkwargs\u001b[0m\u001b[0;34m)\u001b[0m\u001b[0;34m:\u001b[0m\u001b[0;34m\u001b[0m\u001b[0;34m\u001b[0m\u001b[0m\n\u001b[1;32m    407\u001b[0m         \u001b[0;32mif\u001b[0m \u001b[0mlocal\u001b[0m\u001b[0;34m.\u001b[0m\u001b[0m_env\u001b[0m\u001b[0;34m:\u001b[0m\u001b[0;34m\u001b[0m\u001b[0;34m\u001b[0m\u001b[0m\n\u001b[0;32m--> 408\u001b[0;31m             \u001b[0;32mreturn\u001b[0m \u001b[0mf\u001b[0m\u001b[0;34m(\u001b[0m\u001b[0;34m*\u001b[0m\u001b[0margs\u001b[0m\u001b[0;34m,\u001b[0m \u001b[0;34m**\u001b[0m\u001b[0mkwargs\u001b[0m\u001b[0;34m)\u001b[0m\u001b[0;34m\u001b[0m\u001b[0;34m\u001b[0m\u001b[0m\n\u001b[0m\u001b[1;32m    409\u001b[0m         \u001b[0;32melse\u001b[0m\u001b[0;34m:\u001b[0m\u001b[0;34m\u001b[0m\u001b[0;34m\u001b[0m\u001b[0m\n\u001b[1;32m    410\u001b[0m             \u001b[0;32mif\u001b[0m \u001b[0misinstance\u001b[0m\u001b[0;34m(\u001b[0m\u001b[0margs\u001b[0m\u001b[0;34m[\u001b[0m\u001b[0;36m0\u001b[0m\u001b[0;34m]\u001b[0m\u001b[0;34m,\u001b[0m \u001b[0mstr\u001b[0m\u001b[0;34m)\u001b[0m\u001b[0;34m:\u001b[0m\u001b[0;34m\u001b[0m\u001b[0;34m\u001b[0m\u001b[0m\n",
            "\u001b[0;32m/usr/local/lib/python3.7/dist-packages/fiona/__init__.py\u001b[0m in \u001b[0;36mopen\u001b[0;34m(fp, mode, driver, schema, crs, encoding, layer, vfs, enabled_drivers, crs_wkt, **kwargs)\u001b[0m\n\u001b[1;32m    263\u001b[0m         \u001b[0;32mif\u001b[0m \u001b[0mmode\u001b[0m \u001b[0;32min\u001b[0m \u001b[0;34m(\u001b[0m\u001b[0;34m'a'\u001b[0m\u001b[0;34m,\u001b[0m \u001b[0;34m'r'\u001b[0m\u001b[0;34m)\u001b[0m\u001b[0;34m:\u001b[0m\u001b[0;34m\u001b[0m\u001b[0;34m\u001b[0m\u001b[0m\n\u001b[1;32m    264\u001b[0m             c = Collection(path, mode, driver=driver, encoding=encoding,\n\u001b[0;32m--> 265\u001b[0;31m                            layer=layer, enabled_drivers=enabled_drivers, **kwargs)\n\u001b[0m\u001b[1;32m    266\u001b[0m         \u001b[0;32melif\u001b[0m \u001b[0mmode\u001b[0m \u001b[0;34m==\u001b[0m \u001b[0;34m'w'\u001b[0m\u001b[0;34m:\u001b[0m\u001b[0;34m\u001b[0m\u001b[0;34m\u001b[0m\u001b[0m\n\u001b[1;32m    267\u001b[0m             \u001b[0;32mif\u001b[0m \u001b[0mschema\u001b[0m\u001b[0;34m:\u001b[0m\u001b[0;34m\u001b[0m\u001b[0;34m\u001b[0m\u001b[0m\n",
            "\u001b[0;32m/usr/local/lib/python3.7/dist-packages/fiona/collection.py\u001b[0m in \u001b[0;36m__init__\u001b[0;34m(self, path, mode, driver, schema, crs, encoding, layer, vsi, archive, enabled_drivers, crs_wkt, ignore_fields, ignore_geometry, **kwargs)\u001b[0m\n\u001b[1;32m    160\u001b[0m             \u001b[0;32mif\u001b[0m \u001b[0mself\u001b[0m\u001b[0;34m.\u001b[0m\u001b[0mmode\u001b[0m \u001b[0;34m==\u001b[0m \u001b[0;34m'r'\u001b[0m\u001b[0;34m:\u001b[0m\u001b[0;34m\u001b[0m\u001b[0;34m\u001b[0m\u001b[0m\n\u001b[1;32m    161\u001b[0m                 \u001b[0mself\u001b[0m\u001b[0;34m.\u001b[0m\u001b[0msession\u001b[0m \u001b[0;34m=\u001b[0m \u001b[0mSession\u001b[0m\u001b[0;34m(\u001b[0m\u001b[0;34m)\u001b[0m\u001b[0;34m\u001b[0m\u001b[0;34m\u001b[0m\u001b[0m\n\u001b[0;32m--> 162\u001b[0;31m                 \u001b[0mself\u001b[0m\u001b[0;34m.\u001b[0m\u001b[0msession\u001b[0m\u001b[0;34m.\u001b[0m\u001b[0mstart\u001b[0m\u001b[0;34m(\u001b[0m\u001b[0mself\u001b[0m\u001b[0;34m,\u001b[0m \u001b[0;34m**\u001b[0m\u001b[0mkwargs\u001b[0m\u001b[0;34m)\u001b[0m\u001b[0;34m\u001b[0m\u001b[0;34m\u001b[0m\u001b[0m\n\u001b[0m\u001b[1;32m    163\u001b[0m             \u001b[0;32melif\u001b[0m \u001b[0mself\u001b[0m\u001b[0;34m.\u001b[0m\u001b[0mmode\u001b[0m \u001b[0;32min\u001b[0m \u001b[0;34m(\u001b[0m\u001b[0;34m'a'\u001b[0m\u001b[0;34m,\u001b[0m \u001b[0;34m'w'\u001b[0m\u001b[0;34m)\u001b[0m\u001b[0;34m:\u001b[0m\u001b[0;34m\u001b[0m\u001b[0;34m\u001b[0m\u001b[0m\n\u001b[1;32m    164\u001b[0m                 \u001b[0mself\u001b[0m\u001b[0;34m.\u001b[0m\u001b[0msession\u001b[0m \u001b[0;34m=\u001b[0m \u001b[0mWritingSession\u001b[0m\u001b[0;34m(\u001b[0m\u001b[0;34m)\u001b[0m\u001b[0;34m\u001b[0m\u001b[0;34m\u001b[0m\u001b[0m\n",
            "\u001b[0;32mfiona/ogrext.pyx\u001b[0m in \u001b[0;36mfiona.ogrext.Session.start\u001b[0;34m()\u001b[0m\n",
            "\u001b[0;32mfiona/_shim.pyx\u001b[0m in \u001b[0;36mfiona._shim.gdal_open_vector\u001b[0;34m()\u001b[0m\n",
            "\u001b[0;31mDriverError\u001b[0m: '/vsizip//content/data_export (1).zip' not recognized as a supported file format."
          ]
        }
      ],
      "source": [
        "zipcode=gpd.read_file(\"/content/data_export (1).zip\")"
      ]
    },
    {
      "cell_type": "code",
      "execution_count": null,
      "metadata": {
        "colab": {
          "base_uri": "https://localhost:8080/",
          "height": 166
        },
        "id": "xFcDdlJQXtGR",
        "outputId": "1de7b719-f123-44c2-aad6-0bee34039b94"
      },
      "outputs": [
        {
          "output_type": "error",
          "ename": "NameError",
          "evalue": "ignored",
          "traceback": [
            "\u001b[0;31m---------------------------------------------------------------------------\u001b[0m",
            "\u001b[0;31mNameError\u001b[0m                                 Traceback (most recent call last)",
            "\u001b[0;32m<ipython-input-50-ae44a9b4149b>\u001b[0m in \u001b[0;36m<module>\u001b[0;34m()\u001b[0m\n\u001b[0;32m----> 1\u001b[0;31m \u001b[0mresult\u001b[0m\u001b[0;34m=\u001b[0m\u001b[0mpd\u001b[0m\u001b[0;34m.\u001b[0m\u001b[0mmerge\u001b[0m\u001b[0;34m(\u001b[0m\u001b[0mzipcode\u001b[0m\u001b[0;34m,\u001b[0m \u001b[0mdata\u001b[0m\u001b[0;34m,\u001b[0m \u001b[0mon\u001b[0m\u001b[0;34m=\u001b[0m\u001b[0;34m'M0DZCTA'\u001b[0m\u001b[0;34m,\u001b[0m \u001b[0mhow\u001b[0m\u001b[0;34m=\u001b[0m\u001b[0;34m'left'\u001b[0m\u001b[0;34m)\u001b[0m\u001b[0;34m\u001b[0m\u001b[0;34m\u001b[0m\u001b[0m\n\u001b[0m",
            "\u001b[0;31mNameError\u001b[0m: name 'zipcode' is not defined"
          ]
        }
      ],
      "source": [
        "result=pd.merge(zipcode, data, on='M0DZCTA', how='left')"
      ]
    },
    {
      "cell_type": "code",
      "execution_count": null,
      "metadata": {
        "id": "Q3J2k0iCXtGR"
      },
      "outputs": [],
      "source": [
        "result.plot(column='group')"
      ]
    },
    {
      "cell_type": "markdown",
      "metadata": {
        "id": "djXO79h-XtGR"
      },
      "source": [
        "### 6) Identify the optimized number of clustered groups"
      ]
    },
    {
      "cell_type": "code",
      "execution_count": null,
      "metadata": {
        "id": "o3Ts0GimXtGS"
      },
      "outputs": [],
      "source": [
        "# Use for loops \n",
        "# Create an empty list to store total within sum of square values of each loop\n",
        "wss = []\n",
        "\n",
        "for i in range(1, 11):\n",
        "    km = KMeans(\n",
        "        n_clusters=i,\n",
        "        n_init=10, random_state=0\n",
        "    )\n",
        "    km.fit(X_scaled)\n",
        "    wss.append(km.inertia_) # calculate sum of squared distances of samples to their closest cluster center and append to the list\n",
        "\n",
        "# plot the elbow test results\n",
        "plt.figure(figsize=(8,4))\n",
        "plt.plot(range(1, 11), wss, marker='o', c='k')\n",
        "\n",
        "plt.xlabel('Number of clusters', fontsize=13)\n",
        "plt.ylabel('Sum of squared distances of samples', fontsize=13)\n",
        "plt.title('Elbow test', fontsize=15)"
      ]
    },
    {
      "cell_type": "code",
      "execution_count": null,
      "metadata": {
        "id": "L7FVfn_FXtGS"
      },
      "outputs": [],
      "source": [
        "# Use for loops \n",
        "# Create an empty list to store a Silhoutte score of each loop\n",
        "silhoutte_avg = []\n",
        "\n",
        "for i in range(2, 11): # Make sure silhoutte score can be calculated with at least 2 clusters\n",
        "    km = KMeans(\n",
        "        n_clusters=i,\n",
        "        n_init=10, random_state=0\n",
        "    )\n",
        "    y_km = km.fit_predict(X_scaled)\n",
        "    silhoutte_avg.append(silhouette_score(X_scaled, y_km)) # calculate a Silhoutte score and append to the list\n",
        "    \n",
        "# plot the Silhoutte test results\n",
        "plt.figure(figsize=(8,4))\n",
        "plt.plot(range(2, 11), silhoutte_avg, marker='o', c='k')\n",
        "\n",
        "plt.xlabel('Number of clusters', fontsize=13)\n",
        "plt.ylabel('Silhoutte score', fontsize=13)\n",
        "plt.title('Silhoutte test', fontsize=15)"
      ]
    },
    {
      "cell_type": "markdown",
      "metadata": {
        "id": "EXm_lBTRXtGT"
      },
      "source": [
        "### 7) Try clustering again based on the optimal K"
      ]
    },
    {
      "cell_type": "code",
      "execution_count": null,
      "metadata": {
        "id": "hFSHke-jXtGT"
      },
      "outputs": [],
      "source": [
        "result[['White', 'Black', 'Asian', 'Hispanic', 'group']].groupby('group').mean()"
      ]
    },
    {
      "cell_type": "markdown",
      "source": [
        "What kind of problem am I going to solve?\n",
        "\n",
        "Supervised and Unsupervised? Regression, Classification or Clustering problems  (Unsupervised)?\n",
        "\n",
        "Examples: \n",
        "1. Predicting Waste Generation and Recycling in NYC\n",
        "2. Predicting Higher Resolution Air Quality in NYC\n",
        "3. Predicting Heating Risk of Multifamily Housing in NYC (Who did this!??!Bo did this! 1 is higher probability of having issues 0 is less probability)\n",
        "4. Identifying At-Risk Homeless Families in NYC"
      ],
      "metadata": {
        "id": "mvrWY5GAudh7"
      }
    },
    {
      "cell_type": "code",
      "execution_count": null,
      "metadata": {
        "id": "w4JbiVhQXtGU"
      },
      "outputs": [],
      "source": []
    }
  ],
  "metadata": {
    "kernelspec": {
      "display_name": "Python 3",
      "language": "python",
      "name": "python3"
    },
    "language_info": {
      "codemirror_mode": {
        "name": "ipython",
        "version": 3
      },
      "file_extension": ".py",
      "mimetype": "text/x-python",
      "name": "python",
      "nbconvert_exporter": "python",
      "pygments_lexer": "ipython3",
      "version": "3.8.8"
    },
    "colab": {
      "provenance": [],
      "collapsed_sections": [
        "DTbEpNH5XtGF",
        "_Tn56XTOXtGF",
        "4wp1lVLHXtGH",
        "sTYvxeWTXtGI",
        "s-xR768mXtGK",
        "e6sMryPLXtGL",
        "S3DH8eZcXtGM",
        "BsWKkjh6XtGO",
        "m31ENKekXtGO",
        "rjpuY7X1XtGP",
        "ZPaoJx3gXtGQ",
        "djXO79h-XtGR",
        "EXm_lBTRXtGT"
      ]
    }
  },
  "nbformat": 4,
  "nbformat_minor": 0
}