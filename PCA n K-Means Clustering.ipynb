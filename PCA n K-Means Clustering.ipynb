{
  "cells": [
    {
      "cell_type": "markdown",
      "metadata": {
        "id": "aNWEOHaLm2Iw"
      },
      "source": [
        "# Assignment 06\n",
        "\n",
        "# Due: Wednesday 03/02/2022 (11am)\n",
        "\n",
        "### Other important deadlines\n",
        "* Project proposal submission: 03/09/2022, 11:00am (ET)\n",
        "* Please arrange a zoom meeting or an in-person meeting with me to discuss a topic and data before 03/06/2021\n",
        "* Midterm presentation: 03/23/2022 in class (online)\n",
        "* Midterm packet (paper and presentation slides): 03/25/2022, 11:59pm (ET)\n",
        "\n",
        "## In this assignment, we will review PCA/Sparse PCA and K-Means Clustering.\n",
        "__Please submit a python script and markdown using Jupyter notebook (.ipynb file).__\n",
        "\n",
        "* Don’t forget to finish the lab materials. \n",
        "* Please do not share your works publicly on GitHub or other places until the deadline.\n",
        "* Some part of coding can be identical if you work with classmeates but annotation/comments must be individually written."
      ]
    },
    {
      "cell_type": "markdown",
      "metadata": {
        "id": "fAffFqK-m2I8"
      },
      "source": [
        "# Sparse PCA\n",
        "In this problem you'll use Sparse PCA on a (subset of a) publicly available community-level dataset with a large-ish number of real-valued features related to socioeconomic and crime statistics. See here for more details on the dataset: http://archive.ics.uci.edu/ml/datasets/Communities+and+Crime"
      ]
    },
    {
      "cell_type": "markdown",
      "metadata": {
        "id": "dee1MnZ0m2I9"
      },
      "source": [
        "### (1) Load data and create a column to indicate whether a community has above or below average violent crime levels\n",
        "    filename: 'communities.csv'"
      ]
    },
    {
      "cell_type": "code",
      "execution_count": 1,
      "metadata": {
        "colab": {
          "base_uri": "https://localhost:8080/"
        },
        "id": "_RkmcCPGm2I_",
        "outputId": "b58e3a9a-32f5-4501-f7ef-77d7ba280db5"
      },
      "outputs": [
        {
          "output_type": "stream",
          "name": "stdout",
          "text": [
            "Looking in indexes: https://pypi.org/simple, https://us-python.pkg.dev/colab-wheels/public/simple/\n",
            "Collecting geopandas\n",
            "  Downloading geopandas-0.12.2-py3-none-any.whl (1.1 MB)\n",
            "\u001b[2K     \u001b[90m━━━━━━━━━━━━━━━━━━━━━━━━━━━━━━━━━━━━━━━━\u001b[0m \u001b[32m1.1/1.1 MB\u001b[0m \u001b[31m15.8 MB/s\u001b[0m eta \u001b[36m0:00:00\u001b[0m\n",
            "\u001b[?25hCollecting pyproj>=2.6.1.post1\n",
            "  Downloading pyproj-3.4.1-cp38-cp38-manylinux_2_17_x86_64.manylinux2014_x86_64.whl (7.8 MB)\n",
            "\u001b[2K     \u001b[90m━━━━━━━━━━━━━━━━━━━━━━━━━━━━━━━━━━━━━━━━\u001b[0m \u001b[32m7.8/7.8 MB\u001b[0m \u001b[31m54.2 MB/s\u001b[0m eta \u001b[36m0:00:00\u001b[0m\n",
            "\u001b[?25hRequirement already satisfied: pandas>=1.0.0 in /usr/local/lib/python3.8/dist-packages (from geopandas) (1.3.5)\n",
            "Requirement already satisfied: packaging in /usr/local/lib/python3.8/dist-packages (from geopandas) (21.3)\n",
            "Requirement already satisfied: shapely>=1.7 in /usr/local/lib/python3.8/dist-packages (from geopandas) (2.0.0)\n",
            "Collecting fiona>=1.8\n",
            "  Downloading Fiona-1.9.0-cp38-cp38-manylinux_2_17_x86_64.manylinux2014_x86_64.whl (16.9 MB)\n",
            "\u001b[2K     \u001b[90m━━━━━━━━━━━━━━━━━━━━━━━━━━━━━━━━━━━━━━━━\u001b[0m \u001b[32m16.9/16.9 MB\u001b[0m \u001b[31m30.3 MB/s\u001b[0m eta \u001b[36m0:00:00\u001b[0m\n",
            "\u001b[?25hRequirement already satisfied: certifi in /usr/local/lib/python3.8/dist-packages (from fiona>=1.8->geopandas) (2022.12.7)\n",
            "Collecting munch>=2.3.2\n",
            "  Downloading munch-2.5.0-py2.py3-none-any.whl (10 kB)\n",
            "Collecting click~=8.0\n",
            "  Downloading click-8.1.3-py3-none-any.whl (96 kB)\n",
            "\u001b[2K     \u001b[90m━━━━━━━━━━━━━━━━━━━━━━━━━━━━━━━━━━━━━━━━\u001b[0m \u001b[32m96.6/96.6 KB\u001b[0m \u001b[31m3.7 MB/s\u001b[0m eta \u001b[36m0:00:00\u001b[0m\n",
            "\u001b[?25hCollecting cligj>=0.5\n",
            "  Downloading cligj-0.7.2-py3-none-any.whl (7.1 kB)\n",
            "Collecting click-plugins>=1.0\n",
            "  Downloading click_plugins-1.1.1-py2.py3-none-any.whl (7.5 kB)\n",
            "Requirement already satisfied: attrs>=19.2.0 in /usr/local/lib/python3.8/dist-packages (from fiona>=1.8->geopandas) (22.2.0)\n",
            "Requirement already satisfied: python-dateutil>=2.7.3 in /usr/local/lib/python3.8/dist-packages (from pandas>=1.0.0->geopandas) (2.8.2)\n",
            "Requirement already satisfied: numpy>=1.17.3 in /usr/local/lib/python3.8/dist-packages (from pandas>=1.0.0->geopandas) (1.21.6)\n",
            "Requirement already satisfied: pytz>=2017.3 in /usr/local/lib/python3.8/dist-packages (from pandas>=1.0.0->geopandas) (2022.7)\n",
            "Requirement already satisfied: pyparsing!=3.0.5,>=2.0.2 in /usr/local/lib/python3.8/dist-packages (from packaging->geopandas) (3.0.9)\n",
            "Requirement already satisfied: six in /usr/local/lib/python3.8/dist-packages (from munch>=2.3.2->fiona>=1.8->geopandas) (1.15.0)\n",
            "Installing collected packages: pyproj, munch, click, cligj, click-plugins, fiona, geopandas\n",
            "  Attempting uninstall: click\n",
            "    Found existing installation: click 7.1.2\n",
            "    Uninstalling click-7.1.2:\n",
            "      Successfully uninstalled click-7.1.2\n",
            "\u001b[31mERROR: pip's dependency resolver does not currently take into account all the packages that are installed. This behaviour is the source of the following dependency conflicts.\n",
            "flask 1.1.4 requires click<8.0,>=5.1, but you have click 8.1.3 which is incompatible.\u001b[0m\u001b[31m\n",
            "\u001b[0mSuccessfully installed click-8.1.3 click-plugins-1.1.1 cligj-0.7.2 fiona-1.9.0 geopandas-0.12.2 munch-2.5.0 pyproj-3.4.1\n"
          ]
        }
      ],
      "source": [
        "import warnings\n",
        "warnings.filterwarnings(\"ignore\")\n",
        "\n",
        "!pip install geopandas\n",
        "\n",
        "import numpy as np\n",
        "import pandas as pd\n",
        "import geopandas as gpd\n",
        "import matplotlib.pyplot as plt\n",
        "%matplotlib inline"
      ]
    },
    {
      "cell_type": "code",
      "source": [
        "from sklearn.datasets import make_blobs\n",
        "from sklearn.cluster import KMeans"
      ],
      "metadata": {
        "id": "fJ4X4UytncYE"
      },
      "execution_count": null,
      "outputs": []
    },
    {
      "cell_type": "code",
      "source": [
        "#Load communities dataset\n",
        "\n",
        "data = pd.read_csv(\"/content/communities.csv\")\n",
        "data.head()"
      ],
      "metadata": {
        "colab": {
          "base_uri": "https://localhost:8080/",
          "height": 299
        },
        "id": "60JUv666nwNg",
        "outputId": "5c8f71aa-f34d-4a9d-8091-18aa87e9003a"
      },
      "execution_count": null,
      "outputs": [
        {
          "output_type": "execute_result",
          "data": {
            "text/plain": [
              "   population  householdsize  racepctblack  racePctWhite  racePctAsian  \\\n",
              "0        0.19           0.33          0.02          0.90          0.12   \n",
              "1        0.00           0.16          0.12          0.74          0.45   \n",
              "2        0.00           0.42          0.49          0.56          0.17   \n",
              "3        0.04           0.77          1.00          0.08          0.12   \n",
              "4        0.01           0.55          0.02          0.95          0.09   \n",
              "\n",
              "   racePctHisp  agePct12t21  agePct12t29  agePct16t24  agePct65up  ...  \\\n",
              "0         0.17         0.34         0.47         0.29        0.32  ...   \n",
              "1         0.07         0.26         0.59         0.35        0.27  ...   \n",
              "2         0.04         0.39         0.47         0.28        0.32  ...   \n",
              "3         0.10         0.51         0.50         0.34        0.21  ...   \n",
              "4         0.05         0.38         0.38         0.23        0.36  ...   \n",
              "\n",
              "   pctWSocSec  pctWPubAsst  pctWRetire  medFamInc  perCapInc  whitePerCap  \\\n",
              "0        0.29         0.15        0.43       0.39       0.40         0.39   \n",
              "1        0.25         0.29        0.39       0.29       0.37         0.38   \n",
              "2        0.38         0.40        0.84       0.28       0.27         0.29   \n",
              "3        0.36         0.20        0.82       0.51       0.36         0.40   \n",
              "4        0.44         0.11        0.71       0.46       0.43         0.41   \n",
              "\n",
              "   blackPerCap  indianPerCap  AsianPerCap  ViolentCrimesPerPop  \n",
              "0         0.32          0.27         0.27                 0.20  \n",
              "1         0.33          0.16         0.30                 0.67  \n",
              "2         0.27          0.07         0.29                 0.43  \n",
              "3         0.39          0.16         0.25                 0.12  \n",
              "4         0.28          0.00         0.74                 0.03  \n",
              "\n",
              "[5 rows x 26 columns]"
            ],
            "text/html": [
              "\n",
              "  <div id=\"df-bc0f86c5-d40f-4ffb-920b-383ac5d11b59\">\n",
              "    <div class=\"colab-df-container\">\n",
              "      <div>\n",
              "<style scoped>\n",
              "    .dataframe tbody tr th:only-of-type {\n",
              "        vertical-align: middle;\n",
              "    }\n",
              "\n",
              "    .dataframe tbody tr th {\n",
              "        vertical-align: top;\n",
              "    }\n",
              "\n",
              "    .dataframe thead th {\n",
              "        text-align: right;\n",
              "    }\n",
              "</style>\n",
              "<table border=\"1\" class=\"dataframe\">\n",
              "  <thead>\n",
              "    <tr style=\"text-align: right;\">\n",
              "      <th></th>\n",
              "      <th>population</th>\n",
              "      <th>householdsize</th>\n",
              "      <th>racepctblack</th>\n",
              "      <th>racePctWhite</th>\n",
              "      <th>racePctAsian</th>\n",
              "      <th>racePctHisp</th>\n",
              "      <th>agePct12t21</th>\n",
              "      <th>agePct12t29</th>\n",
              "      <th>agePct16t24</th>\n",
              "      <th>agePct65up</th>\n",
              "      <th>...</th>\n",
              "      <th>pctWSocSec</th>\n",
              "      <th>pctWPubAsst</th>\n",
              "      <th>pctWRetire</th>\n",
              "      <th>medFamInc</th>\n",
              "      <th>perCapInc</th>\n",
              "      <th>whitePerCap</th>\n",
              "      <th>blackPerCap</th>\n",
              "      <th>indianPerCap</th>\n",
              "      <th>AsianPerCap</th>\n",
              "      <th>ViolentCrimesPerPop</th>\n",
              "    </tr>\n",
              "  </thead>\n",
              "  <tbody>\n",
              "    <tr>\n",
              "      <th>0</th>\n",
              "      <td>0.19</td>\n",
              "      <td>0.33</td>\n",
              "      <td>0.02</td>\n",
              "      <td>0.90</td>\n",
              "      <td>0.12</td>\n",
              "      <td>0.17</td>\n",
              "      <td>0.34</td>\n",
              "      <td>0.47</td>\n",
              "      <td>0.29</td>\n",
              "      <td>0.32</td>\n",
              "      <td>...</td>\n",
              "      <td>0.29</td>\n",
              "      <td>0.15</td>\n",
              "      <td>0.43</td>\n",
              "      <td>0.39</td>\n",
              "      <td>0.40</td>\n",
              "      <td>0.39</td>\n",
              "      <td>0.32</td>\n",
              "      <td>0.27</td>\n",
              "      <td>0.27</td>\n",
              "      <td>0.20</td>\n",
              "    </tr>\n",
              "    <tr>\n",
              "      <th>1</th>\n",
              "      <td>0.00</td>\n",
              "      <td>0.16</td>\n",
              "      <td>0.12</td>\n",
              "      <td>0.74</td>\n",
              "      <td>0.45</td>\n",
              "      <td>0.07</td>\n",
              "      <td>0.26</td>\n",
              "      <td>0.59</td>\n",
              "      <td>0.35</td>\n",
              "      <td>0.27</td>\n",
              "      <td>...</td>\n",
              "      <td>0.25</td>\n",
              "      <td>0.29</td>\n",
              "      <td>0.39</td>\n",
              "      <td>0.29</td>\n",
              "      <td>0.37</td>\n",
              "      <td>0.38</td>\n",
              "      <td>0.33</td>\n",
              "      <td>0.16</td>\n",
              "      <td>0.30</td>\n",
              "      <td>0.67</td>\n",
              "    </tr>\n",
              "    <tr>\n",
              "      <th>2</th>\n",
              "      <td>0.00</td>\n",
              "      <td>0.42</td>\n",
              "      <td>0.49</td>\n",
              "      <td>0.56</td>\n",
              "      <td>0.17</td>\n",
              "      <td>0.04</td>\n",
              "      <td>0.39</td>\n",
              "      <td>0.47</td>\n",
              "      <td>0.28</td>\n",
              "      <td>0.32</td>\n",
              "      <td>...</td>\n",
              "      <td>0.38</td>\n",
              "      <td>0.40</td>\n",
              "      <td>0.84</td>\n",
              "      <td>0.28</td>\n",
              "      <td>0.27</td>\n",
              "      <td>0.29</td>\n",
              "      <td>0.27</td>\n",
              "      <td>0.07</td>\n",
              "      <td>0.29</td>\n",
              "      <td>0.43</td>\n",
              "    </tr>\n",
              "    <tr>\n",
              "      <th>3</th>\n",
              "      <td>0.04</td>\n",
              "      <td>0.77</td>\n",
              "      <td>1.00</td>\n",
              "      <td>0.08</td>\n",
              "      <td>0.12</td>\n",
              "      <td>0.10</td>\n",
              "      <td>0.51</td>\n",
              "      <td>0.50</td>\n",
              "      <td>0.34</td>\n",
              "      <td>0.21</td>\n",
              "      <td>...</td>\n",
              "      <td>0.36</td>\n",
              "      <td>0.20</td>\n",
              "      <td>0.82</td>\n",
              "      <td>0.51</td>\n",
              "      <td>0.36</td>\n",
              "      <td>0.40</td>\n",
              "      <td>0.39</td>\n",
              "      <td>0.16</td>\n",
              "      <td>0.25</td>\n",
              "      <td>0.12</td>\n",
              "    </tr>\n",
              "    <tr>\n",
              "      <th>4</th>\n",
              "      <td>0.01</td>\n",
              "      <td>0.55</td>\n",
              "      <td>0.02</td>\n",
              "      <td>0.95</td>\n",
              "      <td>0.09</td>\n",
              "      <td>0.05</td>\n",
              "      <td>0.38</td>\n",
              "      <td>0.38</td>\n",
              "      <td>0.23</td>\n",
              "      <td>0.36</td>\n",
              "      <td>...</td>\n",
              "      <td>0.44</td>\n",
              "      <td>0.11</td>\n",
              "      <td>0.71</td>\n",
              "      <td>0.46</td>\n",
              "      <td>0.43</td>\n",
              "      <td>0.41</td>\n",
              "      <td>0.28</td>\n",
              "      <td>0.00</td>\n",
              "      <td>0.74</td>\n",
              "      <td>0.03</td>\n",
              "    </tr>\n",
              "  </tbody>\n",
              "</table>\n",
              "<p>5 rows × 26 columns</p>\n",
              "</div>\n",
              "      <button class=\"colab-df-convert\" onclick=\"convertToInteractive('df-bc0f86c5-d40f-4ffb-920b-383ac5d11b59')\"\n",
              "              title=\"Convert this dataframe to an interactive table.\"\n",
              "              style=\"display:none;\">\n",
              "        \n",
              "  <svg xmlns=\"http://www.w3.org/2000/svg\" height=\"24px\"viewBox=\"0 0 24 24\"\n",
              "       width=\"24px\">\n",
              "    <path d=\"M0 0h24v24H0V0z\" fill=\"none\"/>\n",
              "    <path d=\"M18.56 5.44l.94 2.06.94-2.06 2.06-.94-2.06-.94-.94-2.06-.94 2.06-2.06.94zm-11 1L8.5 8.5l.94-2.06 2.06-.94-2.06-.94L8.5 2.5l-.94 2.06-2.06.94zm10 10l.94 2.06.94-2.06 2.06-.94-2.06-.94-.94-2.06-.94 2.06-2.06.94z\"/><path d=\"M17.41 7.96l-1.37-1.37c-.4-.4-.92-.59-1.43-.59-.52 0-1.04.2-1.43.59L10.3 9.45l-7.72 7.72c-.78.78-.78 2.05 0 2.83L4 21.41c.39.39.9.59 1.41.59.51 0 1.02-.2 1.41-.59l7.78-7.78 2.81-2.81c.8-.78.8-2.07 0-2.86zM5.41 20L4 18.59l7.72-7.72 1.47 1.35L5.41 20z\"/>\n",
              "  </svg>\n",
              "      </button>\n",
              "      \n",
              "  <style>\n",
              "    .colab-df-container {\n",
              "      display:flex;\n",
              "      flex-wrap:wrap;\n",
              "      gap: 12px;\n",
              "    }\n",
              "\n",
              "    .colab-df-convert {\n",
              "      background-color: #E8F0FE;\n",
              "      border: none;\n",
              "      border-radius: 50%;\n",
              "      cursor: pointer;\n",
              "      display: none;\n",
              "      fill: #1967D2;\n",
              "      height: 32px;\n",
              "      padding: 0 0 0 0;\n",
              "      width: 32px;\n",
              "    }\n",
              "\n",
              "    .colab-df-convert:hover {\n",
              "      background-color: #E2EBFA;\n",
              "      box-shadow: 0px 1px 2px rgba(60, 64, 67, 0.3), 0px 1px 3px 1px rgba(60, 64, 67, 0.15);\n",
              "      fill: #174EA6;\n",
              "    }\n",
              "\n",
              "    [theme=dark] .colab-df-convert {\n",
              "      background-color: #3B4455;\n",
              "      fill: #D2E3FC;\n",
              "    }\n",
              "\n",
              "    [theme=dark] .colab-df-convert:hover {\n",
              "      background-color: #434B5C;\n",
              "      box-shadow: 0px 1px 3px 1px rgba(0, 0, 0, 0.15);\n",
              "      filter: drop-shadow(0px 1px 2px rgba(0, 0, 0, 0.3));\n",
              "      fill: #FFFFFF;\n",
              "    }\n",
              "  </style>\n",
              "\n",
              "      <script>\n",
              "        const buttonEl =\n",
              "          document.querySelector('#df-bc0f86c5-d40f-4ffb-920b-383ac5d11b59 button.colab-df-convert');\n",
              "        buttonEl.style.display =\n",
              "          google.colab.kernel.accessAllowed ? 'block' : 'none';\n",
              "\n",
              "        async function convertToInteractive(key) {\n",
              "          const element = document.querySelector('#df-bc0f86c5-d40f-4ffb-920b-383ac5d11b59');\n",
              "          const dataTable =\n",
              "            await google.colab.kernel.invokeFunction('convertToInteractive',\n",
              "                                                     [key], {});\n",
              "          if (!dataTable) return;\n",
              "\n",
              "          const docLinkHtml = 'Like what you see? Visit the ' +\n",
              "            '<a target=\"_blank\" href=https://colab.research.google.com/notebooks/data_table.ipynb>data table notebook</a>'\n",
              "            + ' to learn more about interactive tables.';\n",
              "          element.innerHTML = '';\n",
              "          dataTable['output_type'] = 'display_data';\n",
              "          await google.colab.output.renderOutput(dataTable, element);\n",
              "          const docLink = document.createElement('div');\n",
              "          docLink.innerHTML = docLinkHtml;\n",
              "          element.appendChild(docLink);\n",
              "        }\n",
              "      </script>\n",
              "    </div>\n",
              "  </div>\n",
              "  "
            ]
          },
          "metadata": {},
          "execution_count": 3
        }
      ]
    },
    {
      "cell_type": "code",
      "source": [
        "#Create a column to see whether a community has above or below average violent crime levels\n",
        "\n",
        "#data2=data[\"ViolentCrimesPerPop\"].mean()\n",
        "\n",
        "#calculate the average for violent crimes per pop\n",
        "\n",
        "\n",
        "variable = np.mean(data['ViolentCrimesPerPop'])\n",
        "\n",
        "#it is just copying over the column, how do I calculate then add to a column? \n"
      ],
      "metadata": {
        "id": "7tZhTmQ6n4C2"
      },
      "execution_count": null,
      "outputs": []
    },
    {
      "cell_type": "code",
      "source": [
        "print(variable)"
      ],
      "metadata": {
        "colab": {
          "base_uri": "https://localhost:8080/"
        },
        "id": "D92SFMNhptf1",
        "outputId": "b078d977-ed6f-4a22-e920-1b95ee6980ba"
      },
      "execution_count": null,
      "outputs": [
        {
          "output_type": "stream",
          "name": "stdout",
          "text": [
            "0.23797893681043028\n"
          ]
        }
      ]
    },
    {
      "cell_type": "code",
      "source": [
        "#create a new column with 0.23 as the threshold to be equal to ViolentCrimesPerPop\n",
        "#name the new column to the left\n",
        "\n",
        "#data[\"ViolentCrimeAvg\"] = data[['ViolentCrimesPerPop']> variable] \n",
        "\n",
        "#data['ViolentCrimesPerPop'].where(data['ViolentCrimesPerPop'] <= variable, 0, inplace=True)\n",
        "\n",
        "a = np.array(data['ViolentCrimesPerPop'].values)\n",
        "data['ViolentCrimeAvg'] = np.where(a > variable, 1, 0)\n"
      ],
      "metadata": {
        "id": "9mlc6zVz8vS6"
      },
      "execution_count": null,
      "outputs": []
    },
    {
      "cell_type": "code",
      "source": [
        "print(data)"
      ],
      "metadata": {
        "colab": {
          "base_uri": "https://localhost:8080/"
        },
        "id": "p7ujcFAZAt3f",
        "outputId": "0e8c2350-c2e9-4e3a-811f-ae7e7e9875d0"
      },
      "execution_count": null,
      "outputs": [
        {
          "output_type": "stream",
          "name": "stdout",
          "text": [
            "      population  householdsize  racepctblack  racePctWhite  racePctAsian  \\\n",
            "0           0.19           0.33          0.02          0.90          0.12   \n",
            "1           0.00           0.16          0.12          0.74          0.45   \n",
            "2           0.00           0.42          0.49          0.56          0.17   \n",
            "3           0.04           0.77          1.00          0.08          0.12   \n",
            "4           0.01           0.55          0.02          0.95          0.09   \n",
            "...          ...            ...           ...           ...           ...   \n",
            "1989        0.01           0.40          0.10          0.87          0.12   \n",
            "1990        0.05           0.96          0.46          0.28          0.83   \n",
            "1991        0.16           0.37          0.25          0.69          0.04   \n",
            "1992        0.08           0.51          0.06          0.87          0.22   \n",
            "1993        0.20           0.78          0.14          0.46          0.24   \n",
            "\n",
            "      racePctHisp  agePct12t21  agePct12t29  agePct16t24  agePct65up  ...  \\\n",
            "0            0.17         0.34         0.47         0.29        0.32  ...   \n",
            "1            0.07         0.26         0.59         0.35        0.27  ...   \n",
            "2            0.04         0.39         0.47         0.28        0.32  ...   \n",
            "3            0.10         0.51         0.50         0.34        0.21  ...   \n",
            "4            0.05         0.38         0.38         0.23        0.36  ...   \n",
            "...           ...          ...          ...          ...         ...  ...   \n",
            "1989         0.16         0.43         0.51         0.35        0.30  ...   \n",
            "1990         0.32         0.69         0.86         0.73        0.14  ...   \n",
            "1991         0.25         0.35         0.50         0.31        0.54  ...   \n",
            "1992         0.10         0.58         0.74         0.63        0.41  ...   \n",
            "1993         0.77         0.50         0.62         0.40        0.17  ...   \n",
            "\n",
            "      pctWPubAsst  pctWRetire  medFamInc  perCapInc  whitePerCap  blackPerCap  \\\n",
            "0            0.15        0.43       0.39       0.40         0.39         0.32   \n",
            "1            0.29        0.39       0.29       0.37         0.38         0.33   \n",
            "2            0.40        0.84       0.28       0.27         0.29         0.27   \n",
            "3            0.20        0.82       0.51       0.36         0.40         0.39   \n",
            "4            0.11        0.71       0.46       0.43         0.41         0.28   \n",
            "...           ...         ...        ...        ...          ...          ...   \n",
            "1989         0.06        0.46       0.41       0.49         0.50         0.27   \n",
            "1990         0.37        0.48       0.24       0.18         0.20         0.26   \n",
            "1991         0.48        0.57       0.35       0.31         0.34         0.25   \n",
            "1992         0.24        0.45       0.47       0.40         0.40         0.29   \n",
            "1993         0.47        0.29       0.36       0.24         0.28         0.32   \n",
            "\n",
            "      indianPerCap  AsianPerCap  ViolentCrimesPerPop  ViolentCrimeAvg  \n",
            "0             0.27         0.27                 0.20                0  \n",
            "1             0.16         0.30                 0.67                1  \n",
            "2             0.07         0.29                 0.43                1  \n",
            "3             0.16         0.25                 0.12                0  \n",
            "4             0.00         0.74                 0.03                0  \n",
            "...            ...          ...                  ...              ...  \n",
            "1989          0.00         0.16                 0.09                0  \n",
            "1990          0.18         0.20                 0.45                1  \n",
            "1991          0.19         0.28                 0.23                0  \n",
            "1992          0.20         0.31                 0.19                0  \n",
            "1993          0.22         0.27                 0.48                1  \n",
            "\n",
            "[1994 rows x 27 columns]\n"
          ]
        }
      ]
    },
    {
      "cell_type": "code",
      "source": [
        "data['ViolentCrimesPerPop_binary']=data['ViolentCrimesPerPop']>np.mean(data['ViolentCrimesPerPop'])                                                                    \n",
        "data = data.astype(float)\n",
        "values = data.values\n",
        "print(\"Features:\\n\",data.columns.values[0:25])\n",
        "print(\"\\nPrediction target:\",data.columns.values[25:27])"
      ],
      "metadata": {
        "colab": {
          "base_uri": "https://localhost:8080/"
        },
        "id": "3l8Qn-hxrlSM",
        "outputId": "7836786a-4dd2-40ed-eab3-42f49122715f"
      },
      "execution_count": null,
      "outputs": [
        {
          "output_type": "stream",
          "name": "stdout",
          "text": [
            "Features:\n",
            " ['population' 'householdsize' 'racepctblack' 'racePctWhite' 'racePctAsian'\n",
            " 'racePctHisp' 'agePct12t21' 'agePct12t29' 'agePct16t24' 'agePct65up'\n",
            " 'numbUrban' 'pctUrban' 'medIncome' 'pctWWage' 'pctWFarmSelf' 'pctWInvInc'\n",
            " 'pctWSocSec' 'pctWPubAsst' 'pctWRetire' 'medFamInc' 'perCapInc'\n",
            " 'whitePerCap' 'blackPerCap' 'indianPerCap' 'AsianPerCap']\n",
            "\n",
            "Prediction target: ['ViolentCrimesPerPop' 'ViolentCrimeAvg']\n"
          ]
        }
      ]
    },
    {
      "cell_type": "markdown",
      "metadata": {
        "id": "V1ArUwwYm2JA"
      },
      "source": [
        "### (2) Using Sparse PCA, reduce the data dimensions to 2D\n",
        "As you continue to lower alpha you should eventually get to a point where the two leading (sparse) principal components are both non-trivial. Find this alpha and print the first and second principal components (eigenvectors)."
      ]
    },
    {
      "cell_type": "code",
      "source": [
        "from sklearn.decomposition import SparsePCA"
      ],
      "metadata": {
        "id": "jUG7F9Zlr0Jp"
      },
      "execution_count": null,
      "outputs": []
    },
    {
      "cell_type": "code",
      "execution_count": null,
      "metadata": {
        "colab": {
          "base_uri": "https://localhost:8080/"
        },
        "id": "EtuW8Bwam2JB",
        "outputId": "36556e96-b603-448c-a7ae-8dfc34d4821e"
      },
      "outputs": [
        {
          "output_type": "stream",
          "name": "stdout",
          "text": [
            "[[0. 0. 0. 0. 0. 0. 0. 0. 0. 0. 0. 0. 0. 0. 0. 0. 0. 0. 0. 0. 0. 0. 0. 0.\n",
            "  0.]]\n",
            "[[0. 0. 0. 0. 0. 0. 0. 0. 0. 0. 0. 1. 0. 0. 0. 0. 0. 0. 0. 0. 0. 0. 0. 0.\n",
            "  0.]]\n"
          ]
        }
      ],
      "source": [
        "spca = SparsePCA(n_components=1, alpha=20)\n",
        "X_proj = spca.fit_transform(values[:,0:25])\n",
        "print (spca.components_)\n",
        "\n",
        "spca = SparsePCA(n_components=1, alpha=13)\n",
        "X_proj = spca.fit_transform(values[:,0:25])\n",
        "print (spca.components_)"
      ]
    },
    {
      "cell_type": "markdown",
      "metadata": {
        "id": "-0LEg6Ekm2JC"
      },
      "source": [
        "### (3) Reduce the data dimensions to 2D, using regular PCA"
      ]
    },
    {
      "cell_type": "code",
      "source": [
        "from sklearn.decomposition import PCA\n",
        "from sklearn.preprocessing import StandardScaler"
      ],
      "metadata": {
        "id": "ZjWvX9w7tEdI"
      },
      "execution_count": null,
      "outputs": []
    },
    {
      "cell_type": "code",
      "source": [
        "scaler = StandardScaler().fit(data.values.data)\n",
        "X_scaled = scaler.transform(data.values.data)"
      ],
      "metadata": {
        "id": "lLqXG3jptHQh"
      },
      "execution_count": null,
      "outputs": []
    },
    {
      "cell_type": "code",
      "execution_count": null,
      "metadata": {
        "id": "Dr0McAGCm2JE"
      },
      "outputs": [],
      "source": [
        "pca = PCA(n_components=2).fit(X_scaled)"
      ]
    },
    {
      "cell_type": "markdown",
      "metadata": {
        "id": "Jc6Ret33m2JF"
      },
      "source": [
        "### (4) Plot the data projected onto the two leading (sparse) principal components and do the same thing for the regular PCA. \n",
        "\n",
        "\n",
        "* Color each datapoint according to the column that you created above about whether a community has above or below average violent crime levels."
      ]
    },
    {
      "cell_type": "code",
      "execution_count": null,
      "metadata": {
        "colab": {
          "base_uri": "https://localhost:8080/",
          "height": 199
        },
        "id": "_8E8tnmzm2JH",
        "outputId": "f83f97e6-37f0-4e68-e0d0-8e80456d88b6"
      },
      "outputs": [
        {
          "output_type": "execute_result",
          "data": {
            "text/plain": [
              "Text(0, 0.5, 'Principal components')"
            ]
          },
          "metadata": {},
          "execution_count": 14
        },
        {
          "output_type": "display_data",
          "data": {
            "text/plain": [
              "<Figure size 1152x144 with 2 Axes>"
            ],
            "image/png": "[encoded data removed]"
          },
          "metadata": {
            "needs_background": "light"
          }
        }
      ],
      "source": [
        "#Plot the projections for Sparse principal components\n",
        "plt.matshow(spca.components_, cmap='bone') \n",
        "plt.yticks([0], [\"First component\"]) \n",
        "plt.colorbar() \n",
        "plt.xticks(range(len(data.columns.values[0:25])),           \n",
        "                          data.columns.values[0:25], rotation=60, ha='left') \n",
        "plt.xlabel(\"Feature\") \n",
        "plt.ylabel(\"Principal components\")\n",
        "\n"
      ]
    },
    {
      "cell_type": "code",
      "source": [
        "spca = SparsePCA(n_components=1, alpha=2)\n",
        "X_proj = spca.fit_transform(values[:,0:25])\n",
        "print (spca.components_)\n",
        "print(data.columns[0:25][spca.components_[0]!=0])\n",
        "\n",
        "\n",
        "plt.matshow(spca.components_, cmap='bone_r') \n",
        "plt.yticks([0], [\"First component\"]) \n",
        "plt.colorbar() \n",
        "plt.xticks(range(len(data.columns.values[0:25])),           \n",
        "                          data.columns.values[0:25], rotation=60, ha='left') \n",
        "plt.xlabel(\"Feature\") \n",
        "plt.ylabel(\"Principal components\")"
      ],
      "metadata": {
        "colab": {
          "base_uri": "https://localhost:8080/",
          "height": 353
        },
        "id": "WqZYxzQ9vp_X",
        "outputId": "6670cbf0-bcfe-46bc-800f-0a7fb9249c31"
      },
      "execution_count": null,
      "outputs": [
        {
          "output_type": "stream",
          "name": "stdout",
          "text": [
            "[[ 0.          0.          0.          0.          0.08452926  0.\n",
            "  -0.01437503  0.          0.          0.          0.          0.84732\n",
            "   0.24991722  0.09934853 -0.04212761  0.13330995 -0.03209831 -0.17139411\n",
            "   0.          0.23043401  0.21349224  0.19896766  0.11347906  0.\n",
            "   0.03565544]]\n",
            "Index(['racePctAsian', 'agePct12t21', 'pctUrban', 'medIncome', 'pctWWage',\n",
            "       'pctWFarmSelf', 'pctWInvInc', 'pctWSocSec', 'pctWPubAsst', 'medFamInc',\n",
            "       'perCapInc', 'whitePerCap', 'blackPerCap', 'AsianPerCap'],\n",
            "      dtype='object')\n"
          ]
        },
        {
          "output_type": "execute_result",
          "data": {
            "text/plain": [
              "Text(0, 0.5, 'Principal components')"
            ]
          },
          "metadata": {},
          "execution_count": 15
        },
        {
          "output_type": "display_data",
          "data": {
            "text/plain": [
              "<Figure size 1152x144 with 2 Axes>"
            ],
            "image/png": "[encoded data removed]"
          },
          "metadata": {
            "needs_background": "light"
          }
        }
      ]
    },
    {
      "cell_type": "code",
      "source": [
        "#Plot the projects for PCA components\n",
        "\n",
        "plt.matshow(pca.components_, cmap='bone') \n",
        "plt.yticks([0], [\"First component\"]) \n",
        "plt.colorbar() \n",
        "plt.xticks(range(len(data.columns.values[0:25])), data.columns.values[0:25], rotation=60, ha='left') \n",
        "plt.xlabel(\"Feature\") \n",
        "plt.ylabel(\"Principal components\")\n"
      ],
      "metadata": {
        "colab": {
          "base_uri": "https://localhost:8080/",
          "height": 204
        },
        "id": "A6hClv0ZuduT",
        "outputId": "61cb9448-2eea-4b2b-eb9b-b2c8b9039122"
      },
      "execution_count": null,
      "outputs": [
        {
          "output_type": "execute_result",
          "data": {
            "text/plain": [
              "Text(0, 0.5, 'Principal components')"
            ]
          },
          "metadata": {},
          "execution_count": 16
        },
        {
          "output_type": "display_data",
          "data": {
            "text/plain": [
              "<Figure size 1152x144 with 2 Axes>"
            ],
            "image/png": "[encoded data removed]"
          },
          "metadata": {
            "needs_background": "light"
          }
        }
      ]
    },
    {
      "cell_type": "markdown",
      "metadata": {
        "id": "uZPjBO3lm2JI"
      },
      "source": [
        "### (5) Which projection (PCA or Sparse PCA) leads to better separation (as judged visually) between low crime and high crime communities; or are they about the same? "
      ]
    },
    {
      "cell_type": "code",
      "execution_count": null,
      "metadata": {
        "id": "7IHXSjRfm2JK"
      },
      "outputs": [],
      "source": [
        "#Did I do this correctly? I cannot tell the separation between the two projections? \n",
        "\n",
        "#PCA transform data to new data, find coeffs use to multiply the original variables to get the new transformed values\n",
        "#lighter gray is positive coeffs, the darker is negative coeffs. Showing the magnitude and coeff for transforming those values for the PC.\n",
        "\n",
        "#changes from lighter to darker in the second component, first component is related to race and income, but the second shows another denation of the data\n",
        "#the second is giving more weight to Age, rather than income and race from the first component"
      ]
    },
    {
      "cell_type": "markdown",
      "metadata": {
        "id": "fyn4-MsNm2JL"
      },
      "source": [
        "### (6) Compare the features identified by PCA and Sparse PCA as important. Is there strong overlap between the two sets of features?\n",
        "If possible, create heat map to compare both results (refer to the example script below)\n",
        "    \n",
        "    plt.matshow(pca.components_, cmap='bone') \n",
        "    plt.yticks([0,1], [\"First component\", \"Secomd component\"]) \n",
        "    plt.colorbar() \n",
        "    plt.xticks(range(NUMBER_OF_FEATURES)),           \n",
        "                              FEATURE_NAMES, rotation=60, ha='left') \n",
        "    plt.xlabel(\"Feature\") \n",
        "    plt.ylabel(\"Principal components\")"
      ]
    },
    {
      "cell_type": "code",
      "execution_count": null,
      "metadata": {
        "colab": {
          "base_uri": "https://localhost:8080/",
          "height": 370
        },
        "id": "TF0DG74bm2JN",
        "outputId": "ea95b253-a881-4c10-fb46-840f64807b79"
      },
      "outputs": [
        {
          "output_type": "error",
          "ename": "NameError",
          "evalue": "ignored",
          "traceback": [
            "\u001b[0;31m---------------------------------------------------------------------------\u001b[0m",
            "\u001b[0;31mNameError\u001b[0m                                 Traceback (most recent call last)",
            "\u001b[0;32m<ipython-input-17-06e2c4a710fe>\u001b[0m in \u001b[0;36m<module>\u001b[0;34m()\u001b[0m\n\u001b[1;32m      3\u001b[0m \u001b[0mplt\u001b[0m\u001b[0;34m.\u001b[0m\u001b[0myticks\u001b[0m\u001b[0;34m(\u001b[0m\u001b[0;34m[\u001b[0m\u001b[0;36m0\u001b[0m\u001b[0;34m,\u001b[0m\u001b[0;36m1\u001b[0m\u001b[0;34m]\u001b[0m\u001b[0;34m,\u001b[0m \u001b[0;34m[\u001b[0m\u001b[0;34m\"First component\"\u001b[0m\u001b[0;34m,\u001b[0m \u001b[0;34m\"Second component\"\u001b[0m\u001b[0;34m]\u001b[0m\u001b[0;34m)\u001b[0m\u001b[0;34m\u001b[0m\u001b[0;34m\u001b[0m\u001b[0m\n\u001b[1;32m      4\u001b[0m \u001b[0mplt\u001b[0m\u001b[0;34m.\u001b[0m\u001b[0mcolorbar\u001b[0m\u001b[0;34m(\u001b[0m\u001b[0;34m)\u001b[0m\u001b[0;34m\u001b[0m\u001b[0;34m\u001b[0m\u001b[0m\n\u001b[0;32m----> 5\u001b[0;31m \u001b[0mplt\u001b[0m\u001b[0;34m.\u001b[0m\u001b[0mxticks\u001b[0m\u001b[0;34m(\u001b[0m\u001b[0mrange\u001b[0m\u001b[0;34m(\u001b[0m\u001b[0mNUMBER_OF_FEATURES\u001b[0m\u001b[0;34m)\u001b[0m\u001b[0;34m,\u001b[0m \u001b[0mFEATURE_NAMES\u001b[0m\u001b[0;34m,\u001b[0m \u001b[0mrotation\u001b[0m\u001b[0;34m=\u001b[0m\u001b[0;36m60\u001b[0m\u001b[0;34m,\u001b[0m \u001b[0mha\u001b[0m\u001b[0;34m=\u001b[0m\u001b[0;34m'left'\u001b[0m\u001b[0;34m)\u001b[0m\u001b[0;34m\u001b[0m\u001b[0;34m\u001b[0m\u001b[0m\n\u001b[0m\u001b[1;32m      6\u001b[0m \u001b[0mplt\u001b[0m\u001b[0;34m.\u001b[0m\u001b[0mxlabel\u001b[0m\u001b[0;34m(\u001b[0m\u001b[0;34m\"Feature\"\u001b[0m\u001b[0;34m)\u001b[0m\u001b[0;34m\u001b[0m\u001b[0;34m\u001b[0m\u001b[0m\n\u001b[1;32m      7\u001b[0m \u001b[0mplt\u001b[0m\u001b[0;34m.\u001b[0m\u001b[0mylabel\u001b[0m\u001b[0;34m(\u001b[0m\u001b[0;34m\"Principal components\"\u001b[0m\u001b[0;34m)\u001b[0m\u001b[0;34m\u001b[0m\u001b[0;34m\u001b[0m\u001b[0m\n",
            "\u001b[0;31mNameError\u001b[0m: name 'NUMBER_OF_FEATURES' is not defined"
          ]
        },
        {
          "output_type": "display_data",
          "data": {
            "text/plain": [
              "<Figure size 1152x144 with 2 Axes>"
            ],
            "image/png": "[encoded data removed]"
          },
          "metadata": {
            "needs_background": "light"
          }
        }
      ],
      "source": [
        "#How do I know which number of features to compare? \n",
        "plt.matshow(pca.components_, cmap='bone') \n",
        "plt.yticks([0,1], [\"First component\", \"Second component\"]) \n",
        "plt.colorbar() \n",
        "plt.xticks(range(NUMBER_OF_FEATURES), FEATURE_NAMES, rotation=60, ha='left') \n",
        "plt.xlabel(\"Feature\") \n",
        "plt.ylabel(\"Principal components\")\n"
      ]
    },
    {
      "cell_type": "markdown",
      "metadata": {
        "id": "Hq7sa_GQm2JO"
      },
      "source": [
        "# Cluster New York City business history\n",
        "   \n",
        "Goal: Cluster the economic trends in NYC using K-Means clustering algorithm\n",
        "Dataset:\n",
        "\n",
        "* New York City 1994-2013 business data ('nyc_business.csv')\n",
        "* New York City zipcode data (You will need to download a shapdfile here https://data.cityofnewyork.us/Business/Zip-Code-Boundaries/i8iw-xf4u or you can use 'nyc-zip-code-tabulation-areas-polygons.geojson')"
      ]
    },
    {
      "cell_type": "code",
      "execution_count": null,
      "metadata": {
        "id": "AhZVtpuEm2JP"
      },
      "outputs": [],
      "source": [
        "# Load modules here\n"
      ]
    },
    {
      "cell_type": "markdown",
      "metadata": {
        "id": "qsyv7V5Jm2JR"
      },
      "source": [
        "# 1. Data preparation and exploration\n",
        "### (1) Load NYC 1994-2013 business data\n",
        "\n",
        "    nyc_business.csv"
      ]
    },
    {
      "cell_type": "code",
      "execution_count": null,
      "metadata": {
        "id": "P9bIHljIm2JR"
      },
      "outputs": [],
      "source": [
        "nyc_business=pd.read_csv(\"/content/nyc_business.csv\")"
      ]
    },
    {
      "cell_type": "code",
      "source": [
        "print(data)"
      ],
      "metadata": {
        "colab": {
          "base_uri": "https://localhost:8080/"
        },
        "id": "vOSFLug662in",
        "outputId": "b45ed61a-64ee-426f-a8f8-53643ee2df58"
      },
      "execution_count": null,
      "outputs": [
        {
          "output_type": "stream",
          "name": "stdout",
          "text": [
            "      population  householdsize  racepctblack  racePctWhite  racePctAsian  \\\n",
            "0           0.19           0.33          0.02          0.90          0.12   \n",
            "1           0.00           0.16          0.12          0.74          0.45   \n",
            "2           0.00           0.42          0.49          0.56          0.17   \n",
            "3           0.04           0.77          1.00          0.08          0.12   \n",
            "4           0.01           0.55          0.02          0.95          0.09   \n",
            "...          ...            ...           ...           ...           ...   \n",
            "1989        0.01           0.40          0.10          0.87          0.12   \n",
            "1990        0.05           0.96          0.46          0.28          0.83   \n",
            "1991        0.16           0.37          0.25          0.69          0.04   \n",
            "1992        0.08           0.51          0.06          0.87          0.22   \n",
            "1993        0.20           0.78          0.14          0.46          0.24   \n",
            "\n",
            "      racePctHisp  agePct12t21  agePct12t29  agePct16t24  agePct65up  ...  \\\n",
            "0            0.17         0.34         0.47         0.29        0.32  ...   \n",
            "1            0.07         0.26         0.59         0.35        0.27  ...   \n",
            "2            0.04         0.39         0.47         0.28        0.32  ...   \n",
            "3            0.10         0.51         0.50         0.34        0.21  ...   \n",
            "4            0.05         0.38         0.38         0.23        0.36  ...   \n",
            "...           ...          ...          ...          ...         ...  ...   \n",
            "1989         0.16         0.43         0.51         0.35        0.30  ...   \n",
            "1990         0.32         0.69         0.86         0.73        0.14  ...   \n",
            "1991         0.25         0.35         0.50         0.31        0.54  ...   \n",
            "1992         0.10         0.58         0.74         0.63        0.41  ...   \n",
            "1993         0.77         0.50         0.62         0.40        0.17  ...   \n",
            "\n",
            "      pctWRetire  medFamInc  perCapInc  whitePerCap  blackPerCap  \\\n",
            "0           0.43       0.39       0.40         0.39         0.32   \n",
            "1           0.39       0.29       0.37         0.38         0.33   \n",
            "2           0.84       0.28       0.27         0.29         0.27   \n",
            "3           0.82       0.51       0.36         0.40         0.39   \n",
            "4           0.71       0.46       0.43         0.41         0.28   \n",
            "...          ...        ...        ...          ...          ...   \n",
            "1989        0.46       0.41       0.49         0.50         0.27   \n",
            "1990        0.48       0.24       0.18         0.20         0.26   \n",
            "1991        0.57       0.35       0.31         0.34         0.25   \n",
            "1992        0.45       0.47       0.40         0.40         0.29   \n",
            "1993        0.29       0.36       0.24         0.28         0.32   \n",
            "\n",
            "      indianPerCap  AsianPerCap  ViolentCrimesPerPop  ViolentCrimeAvg  \\\n",
            "0             0.27         0.27                 0.20              0.0   \n",
            "1             0.16         0.30                 0.67              1.0   \n",
            "2             0.07         0.29                 0.43              1.0   \n",
            "3             0.16         0.25                 0.12              0.0   \n",
            "4             0.00         0.74                 0.03              0.0   \n",
            "...            ...          ...                  ...              ...   \n",
            "1989          0.00         0.16                 0.09              0.0   \n",
            "1990          0.18         0.20                 0.45              1.0   \n",
            "1991          0.19         0.28                 0.23              0.0   \n",
            "1992          0.20         0.31                 0.19              0.0   \n",
            "1993          0.22         0.27                 0.48              1.0   \n",
            "\n",
            "      ViolentCrimesPerPop_binary  \n",
            "0                            0.0  \n",
            "1                            1.0  \n",
            "2                            1.0  \n",
            "3                            0.0  \n",
            "4                            0.0  \n",
            "...                          ...  \n",
            "1989                         0.0  \n",
            "1990                         1.0  \n",
            "1991                         0.0  \n",
            "1992                         0.0  \n",
            "1993                         1.0  \n",
            "\n",
            "[1994 rows x 28 columns]\n"
          ]
        }
      ]
    },
    {
      "cell_type": "code",
      "source": [
        "zipcode = gpd.read_file(\"/content/ZIP_CODE_040114.shp\")\n",
        "print(zipcode)"
      ],
      "metadata": {
        "colab": {
          "base_uri": "https://localhost:8080/"
        },
        "id": "F2qsddBMl5Xh",
        "outputId": "7a06a17c-dc69-4f1a-fe9b-fab92d3769a4"
      },
      "execution_count": null,
      "outputs": [
        {
          "output_type": "stream",
          "name": "stdout",
          "text": [
            "    ZIPCODE BLDGZIP        PO_NAME  POPULATION          AREA STATE    COUNTY  \\\n",
            "0     11436       0        Jamaica     18681.0  2.269930e+07    NY    Queens   \n",
            "1     11213       0       Brooklyn     62426.0  2.963100e+07    NY     Kings   \n",
            "2     11212       0       Brooklyn     83866.0  4.197210e+07    NY     Kings   \n",
            "3     11225       0       Brooklyn     56527.0  2.369863e+07    NY     Kings   \n",
            "4     11218       0       Brooklyn     72280.0  3.686880e+07    NY     Kings   \n",
            "..      ...     ...            ...         ...           ...   ...       ...   \n",
            "258   10310       0  Staten Island     25003.0  5.346328e+07    NY  Richmond   \n",
            "259   11693       0   Far Rockaway     11052.0  3.497516e+06    NY     Kings   \n",
            "260   11249       0       Brooklyn     28481.0  1.777221e+07    NY     Kings   \n",
            "261   10162       1       New York         0.0  2.103489e+04    NY  New York   \n",
            "262   10119       1       New York         0.0  1.263930e+05    NY  New York   \n",
            "\n",
            "    ST_FIPS CTY_FIPS                   URL  SHAPE_AREA  SHAPE_LEN  \\\n",
            "0        36      081  http://www.usps.com/         0.0        0.0   \n",
            "1        36      047  http://www.usps.com/         0.0        0.0   \n",
            "2        36      047  http://www.usps.com/         0.0        0.0   \n",
            "3        36      047  http://www.usps.com/         0.0        0.0   \n",
            "4        36      047  http://www.usps.com/         0.0        0.0   \n",
            "..      ...      ...                   ...         ...        ...   \n",
            "258      36      085  http://www.usps.com/         0.0        0.0   \n",
            "259      36      047  http://www.usps.com/         0.0        0.0   \n",
            "260      36      047  http://www.usps.com/         0.0        0.0   \n",
            "261      36      061  http://www.usps.com/         0.0        0.0   \n",
            "262      36      061  http://www.usps.com/         0.0        0.0   \n",
            "\n",
            "                                              geometry  \n",
            "0    POLYGON ((1038098.252 188138.380, 1038141.936 ...  \n",
            "1    POLYGON ((1001613.713 186926.440, 1002314.243 ...  \n",
            "2    POLYGON ((1011174.276 183696.338, 1011373.584 ...  \n",
            "3    POLYGON ((995908.365 183617.613, 996522.848 18...  \n",
            "4    POLYGON ((991997.113 176307.496, 992042.798 17...  \n",
            "..                                                 ...  \n",
            "258  POLYGON ((950767.507 172848.969, 950787.510 17...  \n",
            "259  POLYGON ((1028453.995 167153.410, 1027813.010 ...  \n",
            "260  POLYGON ((995877.318 203206.075, 995968.511 20...  \n",
            "261  POLYGON ((997731.761 219560.922, 997641.948 21...  \n",
            "262  POLYGON ((986038.661 213051.063, 986135.314 21...  \n",
            "\n",
            "[263 rows x 13 columns]\n"
          ]
        }
      ]
    },
    {
      "cell_type": "code",
      "source": [
        "print(nyc_business)"
      ],
      "metadata": {
        "colab": {
          "base_uri": "https://localhost:8080/"
        },
        "id": "bJXrhPfxvPjr",
        "outputId": "99ce3a90-b42b-4f52-a18b-0427e859bfa8"
      },
      "execution_count": null,
      "outputs": [
        {
          "output_type": "stream",
          "name": "stdout",
          "text": [
            "       zip    94    95    96    97    98    99     0     1     2  ...     4  \\\n",
            "0    10001  6999  7088  7075  7154  7254  7233  7317  7188  7141  ...  7370   \n",
            "1    10002  1784  1819  1919  2049  2003  2085  2277  2543  2269  ...  2551   \n",
            "2    10003  3256  3377  3417  3535  3649  3659  3683  3602  3616  ...  3776   \n",
            "3    10004  1115  1124  1133  1173  1176  1233  1294  1247  1253  ...  1283   \n",
            "4    10004  1115  1124  1133  1173  1176  1233  1294  1247  1253  ...  1283   \n",
            "..     ...   ...   ...   ...   ...   ...   ...   ...   ...   ...  ...   ...   \n",
            "238  11693    95    90    88    83    79    79    79    89    94  ...    96   \n",
            "239  11693    95    90    88    83    79    79    79    89    94  ...    96   \n",
            "240  11693    95    90    88    83    79    79    79    89    94  ...    96   \n",
            "241  11694   294   285   287   294   291   284   288   301   302  ...   303   \n",
            "242  11697    33    32    34    38    38    38    39    40    37  ...    43   \n",
            "\n",
            "        5     6     7     8     9    10    11    12    13  \n",
            "0    7312  7415  7549  7472  7305  7241  7227  7235  7273  \n",
            "1    2682  2686  2685  2691  2775  2872  2912  2954  2988  \n",
            "2    3867  3909  4049  4071  4099  4113  4159  4214  4277  \n",
            "3    1260  1311  1370  1376  1379  1398  1404  1442  1479  \n",
            "4    1260  1311  1370  1376  1379  1398  1404  1442  1479  \n",
            "..    ...   ...   ...   ...   ...   ...   ...   ...   ...  \n",
            "238    97   104   110   125   131   132   131   129   127  \n",
            "239    97   104   110   125   131   132   131   129   127  \n",
            "240    97   104   110   125   131   132   131   129   127  \n",
            "241   317   315   332   328   317   330   326   326   327  \n",
            "242    42    49    48    49    51    48    46    49    40  \n",
            "\n",
            "[243 rows x 21 columns]\n"
          ]
        }
      ]
    },
    {
      "cell_type": "markdown",
      "metadata": {
        "id": "nzFeJ4Vwm2JS"
      },
      "source": [
        "### (2) Create X (input) variables as numpy array\n",
        "\n",
        "1.   List item\n",
        "2.   List item\n",
        "\n",
        "\n",
        "* You don't need a zipcode column\n",
        "* You need the rest of the columns (1994-2013) for your input features\n",
        "* Please use .values function of pandas dataframe to create a numpy array (https://pandas.pydata.org/pandas-docs/stable/reference/api/pandas.DataFrame.values.html) - you can also find some reference from the last lab session (sparsePCA part)"
      ]
    },
    {
      "cell_type": "code",
      "source": [
        "from sklearn.datasets import make_blobs\n",
        "import numpy as np\n",
        "\n",
        "\n"
      ],
      "metadata": {
        "id": "ls6Kq599n0BZ"
      },
      "execution_count": null,
      "outputs": []
    },
    {
      "cell_type": "code",
      "source": [
        "nyc_business2=nyc_business.values[:,1:21] #this is a numpy array\n",
        "\n",
        "\n",
        "#df=pd.DataFrame\n",
        "\n",
        "#option 2\n",
        "\n",
        "#spca = SparsePCA(n_components=1, alpha=20)\n",
        "#X_proj = spca.fit_transform(values[:,0:25])\n",
        "#print (spca.components_)\n",
        "\n",
        "#option 3\n",
        "#from sklearn.preprocessing import StandardScaler\n",
        "#scaled_features = StandardScaler().fit_transform(df.values)\n",
        "\n",
        "#In [15]: scaled_features[:3,:] #lost the indices\n",
        "#Out[15]:\n",
        "#array([[-1.89007341,  0.05636005,  1.74514417,  0.46669562],\n",
        "       #[ 1.26558518, -1.35264122,  0.82178747,  0.59282958],\n",
        "       #[ 0.93341059,  0.37841748, -0.60941542,  0.59282958]])\n",
        "\n",
        "#scaled_features_df = pd.DataFrame(scaled_features, index=df.index, columns=df.columns)\n",
        "\n",
        "#In [17]:  scaled_features_df.head(3)\n",
        "#Out[17]:\n",
        "   # col1    col2    col3    col4\n",
        "#10  -1.890073   0.056360    1.745144    0.466696\n",
        "#11  1.265585    -1.352641   0.821787    0.592830\n",
        "#12  0.933411    0.378417    -0.609415   0.592830\n",
        "\n",
        "#option 4\n",
        "#features = [\"col1\", \"col2\", \"col3\", \"col4\"]\n",
        "#autoscaler = StandardScaler()\n",
        "#df[features] = autoscaler.fit_transform(df[features])"
      ],
      "metadata": {
        "id": "RtfncmX0oJto"
      },
      "execution_count": null,
      "outputs": []
    },
    {
      "cell_type": "code",
      "source": [
        "print(nyc_business2)"
      ],
      "metadata": {
        "colab": {
          "base_uri": "https://localhost:8080/"
        },
        "id": "nhkvnZ7AFXS4",
        "outputId": "b0b9341f-f8d7-4a5d-aa32-10e7f1802099"
      },
      "execution_count": null,
      "outputs": [
        {
          "output_type": "stream",
          "name": "stdout",
          "text": [
            "[[6999 7088 7075 ... 7227 7235 7273]\n",
            " [1784 1819 1919 ... 2912 2954 2988]\n",
            " [3256 3377 3417 ... 4159 4214 4277]\n",
            " ...\n",
            " [  95   90   88 ...  131  129  127]\n",
            " [ 294  285  287 ...  326  326  327]\n",
            " [  33   32   34 ...   46   49   40]]\n"
          ]
        }
      ]
    },
    {
      "cell_type": "code",
      "execution_count": null,
      "metadata": {
        "id": "pwhLM1c3m2JT"
      },
      "outputs": [],
      "source": [
        "#X, y = make_blobs(\n",
        "   #n_samples=150, n_features=2, # create (150,2) shape data points - in other words, 150 rows and 2 columns\n",
        "   #centers=3, cluster_std=0.5,\n",
        "   #shuffle=True, random_state=0\n",
        "#)"
      ]
    },
    {
      "cell_type": "markdown",
      "metadata": {
        "id": "X3hjEneum2JT"
      },
      "source": [
        "### (3) Normalize (z-score normalization) data\n",
        "\n",
        "* Since the scale of the business change across the neighborhoods is different (i.e. some neighborhoods have changed approximately 6K - 7K scale, while other neighborhoods have changed around 30 - 40), you need to normalize data to compare neighborhoods' business change trends at the same scale. \n",
        "* Here we will apply a z-score normalization (mean = 0, std = 1) to _each neighborhood (zipcode)_.\n",
        "* You can use stats.zscore() function (https://docs.scipy.org/doc/scipy/reference/generated/scipy.stats.zscore.html) and for loops to normalize all zipcodes.\n",
        "* After the z-score normalization process, \n",
        "    * Your normalized array should be the same shape with the original array (that created just above)\n",
        "    * Mean values and standard deviation values of each zipcode should be 0 and 1 respectively.\n",
        "    \n",
        "* __If you prefer other methods (e.g. StandardScaler or processing manually)__, feel free to stick with your own method."
      ]
    },
    {
      "cell_type": "code",
      "execution_count": null,
      "metadata": {
        "id": "QuaWvUaem2JU"
      },
      "outputs": [],
      "source": [
        "#z score normalization process\n",
        "\n",
        "from sklearn.preprocessing import StandardScaler\n",
        "#scaled_features = StandardScaler().fit_transform(df.values)"
      ]
    },
    {
      "cell_type": "code",
      "source": [
        "#nyc_business3=np.transpose(nyc_business2)\n",
        "scaler = StandardScaler()\n",
        "\n"
      ],
      "metadata": {
        "id": "meDgUNtBGuax"
      },
      "execution_count": null,
      "outputs": []
    },
    {
      "cell_type": "code",
      "source": [
        "scaler.fit(nyc_business2)\n",
        "X_scaled=scaler.transform(nyc_business2)\n"
      ],
      "metadata": {
        "id": "XCOFuhEKJPOm"
      },
      "execution_count": null,
      "outputs": []
    },
    {
      "cell_type": "markdown",
      "metadata": {
        "id": "mYIDS8N1m2JU"
      },
      "source": [
        "### (4) Plot the normalized data\n",
        "* X-axis will be year (1994-2013)\n",
        "* Y-axis will be normalized #of business in zipcode level\n",
        "* Even though we have 20-dimensional data (20 years), the data can be represented 2-dimensional timeseries plot."
      ]
    },
    {
      "cell_type": "code",
      "execution_count": null,
      "metadata": {
        "id": "QIvulqFim2JV"
      },
      "outputs": [],
      "source": [
        "#X, y = make_blobs(\n",
        "   #n_samples=150, n_features=2, # create (150,2) shape data points - in other words, 150 rows and 2 columns\n",
        "   #centers=3, cluster_std=0.5,\n",
        "   #shuffle=True, random_state=0\n",
        "#)"
      ]
    },
    {
      "cell_type": "code",
      "source": [
        "df=pd.DataFrame(data=X_scaled)"
      ],
      "metadata": {
        "id": "xSAd1sapbep1"
      },
      "execution_count": null,
      "outputs": []
    },
    {
      "cell_type": "code",
      "source": [
        "# Plot X (two dimensional data) #x is year \n",
        "df.plot(legend=False)\n",
        "#plt.figure(figsize=(5,5))\n",
        "#plt.scatter(X[:,0], X[:,1],\n",
        "           #c='white', marker='o',\n",
        "           #edgecolor='black', s=50)\n",
        "\n",
        "#plt.xlabel('X1 feature', fontsize=13)\n",
        "#plt.ylabel('X2 feature', fontsize=13)\n",
        "#plt.title('Scatter plot - two dimensional data', fontsize=15)\n",
        "\n",
        "#there's three groups clustered"
      ],
      "metadata": {
        "colab": {
          "base_uri": "https://localhost:8080/",
          "height": 283
        },
        "id": "tuD1ky4-LlKY",
        "outputId": "08028cbc-5843-4890-d334-9c53220e5379"
      },
      "execution_count": null,
      "outputs": [
        {
          "output_type": "execute_result",
          "data": {
            "text/plain": [
              "<matplotlib.axes._subplots.AxesSubplot at 0x7f62342b8a10>"
            ]
          },
          "metadata": {},
          "execution_count": 97
        },
        {
          "output_type": "display_data",
          "data": {
            "text/plain": [
              "<Figure size 432x288 with 1 Axes>"
            ],
            "image/png": "[encoded data removed]"
          },
          "metadata": {
            "needs_background": "light"
          }
        }
      ]
    },
    {
      "cell_type": "code",
      "source": [
        "X_scaled.shape"
      ],
      "metadata": {
        "colab": {
          "base_uri": "https://localhost:8080/"
        },
        "id": "GmZfGRSDMUcr",
        "outputId": "33e62ff2-eaaa-46b0-ee50-1adea8f1af45"
      },
      "execution_count": null,
      "outputs": [
        {
          "output_type": "execute_result",
          "data": {
            "text/plain": [
              "(20, 243)"
            ]
          },
          "metadata": {},
          "execution_count": 45
        }
      ]
    },
    {
      "cell_type": "markdown",
      "metadata": {
        "id": "tE9bHByam2JV"
      },
      "source": [
        "# 2. K-Means Clustering Analysis\n",
        "### (1) Cluster NYC business history using K=3"
      ]
    },
    {
      "cell_type": "code",
      "execution_count": null,
      "metadata": {
        "id": "zrg6mWWjm2JV"
      },
      "outputs": [],
      "source": [
        "km=KMeans(n_clusters=3) "
      ]
    },
    {
      "cell_type": "code",
      "source": [
        "group_km=km.fit_predict(X_scaled)"
      ],
      "metadata": {
        "id": "F84CPN77pXfv"
      },
      "execution_count": null,
      "outputs": []
    },
    {
      "cell_type": "code",
      "source": [
        "group_km"
      ],
      "metadata": {
        "colab": {
          "base_uri": "https://localhost:8080/"
        },
        "id": "oai5dxjfpZJl",
        "outputId": "17d6f38e-e410-4f13-aad4-fa8339e55a1e"
      },
      "execution_count": null,
      "outputs": [
        {
          "output_type": "execute_result",
          "data": {
            "text/plain": [
              "array([2, 1, 1, 1, 1, 1, 1, 1, 0, 1, 0, 1, 1, 1, 2, 1, 2, 2, 2, 2, 0, 2,\n",
              "       2, 1, 1, 1, 0, 0, 1, 0, 0, 0, 0, 0, 0, 0, 0, 2, 0, 1, 0, 0, 0, 0,\n",
              "       0, 0, 0, 0, 0, 0, 0, 0, 0, 0, 0, 0, 0, 0, 0, 0, 0, 0, 0, 1, 0, 0,\n",
              "       0, 0, 0, 0, 0, 0, 0, 0, 0, 0, 0, 0, 0, 0, 0, 0, 0, 0, 0, 0, 0, 0,\n",
              "       0, 0, 0, 0, 0, 0, 0, 0, 0, 0, 0, 0, 0, 0, 0, 0, 0, 1, 0, 0, 0, 0,\n",
              "       0, 0, 0, 0, 0, 0, 1, 0, 0, 0, 0, 0, 0, 0, 0, 0, 0, 0, 0, 0, 0, 0,\n",
              "       0, 0, 0, 0, 0, 1, 0, 0, 1, 0, 0, 0, 0, 0, 1, 0, 1, 0, 0, 0, 0, 1,\n",
              "       0, 1, 0, 0, 1, 1, 0, 0, 1, 1, 1, 0, 1, 1, 0, 0, 0, 0, 1, 1, 0, 0,\n",
              "       0, 0, 1, 1, 0, 0, 0, 0, 1, 1, 0, 0, 0, 0, 0, 0, 0, 0, 0, 0, 0, 0,\n",
              "       0, 0, 0, 0, 0, 1, 1, 0, 1, 1, 0, 0, 1, 0, 0, 0, 0, 0, 0, 0, 0, 0,\n",
              "       0, 0, 0, 0, 0, 0, 0, 0, 0, 1, 0, 0, 0, 0, 0, 0, 0, 0, 0, 0, 0, 0,\n",
              "       0], dtype=int32)"
            ]
          },
          "metadata": {},
          "execution_count": 67
        }
      ]
    },
    {
      "cell_type": "markdown",
      "metadata": {
        "id": "u0uDKzOum2JW"
      },
      "source": [
        "### (2) Plot NYC business history data (normalized) using three differnt color based on the clustering result"
      ]
    },
    {
      "cell_type": "code",
      "execution_count": null,
      "metadata": {
        "id": "RzD4l3exm2JW",
        "colab": {
          "base_uri": "https://localhost:8080/",
          "height": 373
        },
        "outputId": "936ded08-2c56-4742-8802-ae0e45fb9d2c"
      },
      "outputs": [
        {
          "output_type": "execute_result",
          "data": {
            "text/plain": [
              "Text(0.5, 1.0, 'Scatter plot - two dimensional data')"
            ]
          },
          "metadata": {},
          "execution_count": 68
        },
        {
          "output_type": "display_data",
          "data": {
            "text/plain": [
              "<Figure size 360x360 with 1 Axes>"
            ],
            "image/png": "[encoded data removed]"
          },
          "metadata": {
            "needs_background": "light"
          }
        }
      ],
      "source": [
        "# Plot X (two dimensional data)\n",
        "plt.figure(figsize=(5,5))\n",
        "plt.scatter(X_scaled[:,0], X_scaled[:,1],\n",
        "           c=group_km, marker='o',\n",
        "           edgecolor='black', s=50)\n",
        "\n",
        "plt.xlabel('X1 feature', fontsize=13)\n",
        "plt.ylabel('X2 feature', fontsize=13)\n",
        "plt.title('Scatter plot - two dimensional data', fontsize=15)\n",
        "\n",
        "#there's three groups clustered\n",
        "#need to check on this, how do we plot the neighborhoods with the business normalized?"
      ]
    },
    {
      "cell_type": "code",
      "source": [
        "km=KMeans(n_clusters=3, random_state=0) #random statements equal 0"
      ],
      "metadata": {
        "id": "wshRjJzMpE7o"
      },
      "execution_count": null,
      "outputs": []
    },
    {
      "cell_type": "code",
      "source": [
        "group_km=km.fit_predict(X_scaled)\n",
        "print(group_km)"
      ],
      "metadata": {
        "colab": {
          "base_uri": "https://localhost:8080/"
        },
        "id": "wFexbhlypHbh",
        "outputId": "a7190b12-ad6c-4672-ea4b-efd270f08263"
      },
      "execution_count": null,
      "outputs": [
        {
          "output_type": "stream",
          "name": "stdout",
          "text": [
            "[1 1 1 1 1 1 1 1 2 2 2 2 2 2 2 0 0 0 0 0]\n"
          ]
        }
      ]
    },
    {
      "cell_type": "markdown",
      "metadata": {
        "id": "DZvLidUAm2JW"
      },
      "source": [
        "### (3) You could see some trends. In order to verify this, please add mean center line of each clusters using the same color but bold lineweight. \n",
        "* You need to calulate mean values of each cluster in every year and store as a list type.\n",
        "* For your reference, you will get a similar plot like below. \n",
        "![image.png](attachment:image.png)"
      ]
    },
    {
      "cell_type": "code",
      "execution_count": null,
      "metadata": {
        "id": "sylpvYzZm2JX"
      },
      "outputs": [],
      "source": []
    },
    {
      "cell_type": "code",
      "execution_count": null,
      "metadata": {
        "id": "YnMf4L-Mm2JX"
      },
      "outputs": [],
      "source": []
    },
    {
      "cell_type": "markdown",
      "metadata": {
        "id": "wZlL1TJum2JX"
      },
      "source": [
        "# 3. Find the optimal K using either elbow method or Silhoutte method"
      ]
    },
    {
      "cell_type": "code",
      "execution_count": null,
      "metadata": {
        "id": "_PBuTah0m2JY"
      },
      "outputs": [],
      "source": [
        "#collect distortions into a list\n",
        "distortions = []\n",
        "K = range(1,10)\n",
        "for k in K:\n",
        "    kmeanModel = KMeans(n_clusters=k)\n",
        "    kmeanModel.fit(X_scaled)\n",
        "    distortions.append(kmeanModel.inertia_)"
      ]
    },
    {
      "cell_type": "code",
      "execution_count": null,
      "metadata": {
        "id": "RANqmRA8m2JY",
        "colab": {
          "base_uri": "https://localhost:8080/",
          "height": 513
        },
        "outputId": "350b1452-8ae0-4d93-e850-5b4cd8a1ebeb"
      },
      "outputs": [
        {
          "output_type": "display_data",
          "data": {
            "text/plain": [
              "<Figure size 1152x576 with 1 Axes>"
            ],
            "image/png": "[encoded data removed]"
          },
          "metadata": {
            "needs_background": "light"
          }
        }
      ],
      "source": [
        "#plot the distortions\n",
        "plt.figure(figsize=(16,8))\n",
        "plt.plot(K, distortions, 'bx-')\n",
        "plt.xlabel('k')\n",
        "plt.ylabel('Distortion')\n",
        "plt.title('The Elbow Method showing the optimal k')\n",
        "plt.show()"
      ]
    },
    {
      "cell_type": "code",
      "source": [
        "#based on the plot resulting, change the elbow value or n_clusters\n",
        "kmeanModel = KMeans(n_clusters=3)\n",
        "kmeanModel.fit(X_scaled)"
      ],
      "metadata": {
        "colab": {
          "base_uri": "https://localhost:8080/"
        },
        "id": "uK19HuVfrASN",
        "outputId": "87e3bc2f-ae44-4e2f-e6f2-8b7dac6e1df2"
      },
      "execution_count": null,
      "outputs": [
        {
          "output_type": "execute_result",
          "data": {
            "text/plain": [
              "KMeans(n_clusters=3)"
            ]
          },
          "metadata": {},
          "execution_count": 71
        }
      ]
    },
    {
      "cell_type": "code",
      "source": [
        "#compare between the K-means and elbow value\n",
        "X_scaled['k_means']=kmeanModel.predict(X_scaled)\n",
        "X_scaled['target']=iris['target']\n",
        "fig, axes = plt.subplots(1, 2, figsize=(16,8))\n",
        "axes[0].scatter(X_scaled[0], X_scaled[1], c=X_scaled['target'])\n",
        "axes[1].scatter(X_scaled[0], X_scaled[1], c=X_scaled['k_means'], cmap=plt.cm.Set1)\n",
        "axes[0].set_title('Actual', fontsize=18) #is there an actual value?\n",
        "axes[1].set_title('K_Means', fontsize=18)"
      ],
      "metadata": {
        "colab": {
          "base_uri": "https://localhost:8080/",
          "height": 242
        },
        "id": "aRz6HOQbrIjY",
        "outputId": "dd9c1d5e-1c4a-40ee-8b18-f4b6514b1bfe"
      },
      "execution_count": null,
      "outputs": [
        {
          "output_type": "error",
          "ename": "IndexError",
          "evalue": "ignored",
          "traceback": [
            "\u001b[0;31m---------------------------------------------------------------------------\u001b[0m",
            "\u001b[0;31mIndexError\u001b[0m                                Traceback (most recent call last)",
            "\u001b[0;32m<ipython-input-72-5f5b939e4a3b>\u001b[0m in \u001b[0;36m<module>\u001b[0;34m()\u001b[0m\n\u001b[1;32m      1\u001b[0m \u001b[0;31m#compare between the K-means and elbow value\u001b[0m\u001b[0;34m\u001b[0m\u001b[0;34m\u001b[0m\u001b[0;34m\u001b[0m\u001b[0m\n\u001b[0;32m----> 2\u001b[0;31m \u001b[0mX_scaled\u001b[0m\u001b[0;34m[\u001b[0m\u001b[0;34m'k_means'\u001b[0m\u001b[0;34m]\u001b[0m\u001b[0;34m=\u001b[0m\u001b[0mkmeanModel\u001b[0m\u001b[0;34m.\u001b[0m\u001b[0mpredict\u001b[0m\u001b[0;34m(\u001b[0m\u001b[0mX_scaled\u001b[0m\u001b[0;34m)\u001b[0m\u001b[0;34m\u001b[0m\u001b[0;34m\u001b[0m\u001b[0m\n\u001b[0m\u001b[1;32m      3\u001b[0m \u001b[0mX_scaled\u001b[0m\u001b[0;34m[\u001b[0m\u001b[0;34m'target'\u001b[0m\u001b[0;34m]\u001b[0m\u001b[0;34m=\u001b[0m\u001b[0miris\u001b[0m\u001b[0;34m[\u001b[0m\u001b[0;34m'target'\u001b[0m\u001b[0;34m]\u001b[0m\u001b[0;34m\u001b[0m\u001b[0;34m\u001b[0m\u001b[0m\n\u001b[1;32m      4\u001b[0m \u001b[0mfig\u001b[0m\u001b[0;34m,\u001b[0m \u001b[0maxes\u001b[0m \u001b[0;34m=\u001b[0m \u001b[0mplt\u001b[0m\u001b[0;34m.\u001b[0m\u001b[0msubplots\u001b[0m\u001b[0;34m(\u001b[0m\u001b[0;36m1\u001b[0m\u001b[0;34m,\u001b[0m \u001b[0;36m2\u001b[0m\u001b[0;34m,\u001b[0m \u001b[0mfigsize\u001b[0m\u001b[0;34m=\u001b[0m\u001b[0;34m(\u001b[0m\u001b[0;36m16\u001b[0m\u001b[0;34m,\u001b[0m\u001b[0;36m8\u001b[0m\u001b[0;34m)\u001b[0m\u001b[0;34m)\u001b[0m\u001b[0;34m\u001b[0m\u001b[0;34m\u001b[0m\u001b[0m\n\u001b[1;32m      5\u001b[0m \u001b[0maxes\u001b[0m\u001b[0;34m[\u001b[0m\u001b[0;36m0\u001b[0m\u001b[0;34m]\u001b[0m\u001b[0;34m.\u001b[0m\u001b[0mscatter\u001b[0m\u001b[0;34m(\u001b[0m\u001b[0mX_scaled\u001b[0m\u001b[0;34m[\u001b[0m\u001b[0;36m0\u001b[0m\u001b[0;34m]\u001b[0m\u001b[0;34m,\u001b[0m \u001b[0mX_scaled\u001b[0m\u001b[0;34m[\u001b[0m\u001b[0;36m1\u001b[0m\u001b[0;34m]\u001b[0m\u001b[0;34m,\u001b[0m \u001b[0mc\u001b[0m\u001b[0;34m=\u001b[0m\u001b[0mX_scaled\u001b[0m\u001b[0;34m[\u001b[0m\u001b[0;34m'target'\u001b[0m\u001b[0;34m]\u001b[0m\u001b[0;34m)\u001b[0m\u001b[0;34m\u001b[0m\u001b[0;34m\u001b[0m\u001b[0m\n",
            "\u001b[0;31mIndexError\u001b[0m: only integers, slices (`:`), ellipsis (`...`), numpy.newaxis (`None`) and integer or boolean arrays are valid indices"
          ]
        }
      ]
    },
    {
      "cell_type": "markdown",
      "metadata": {
        "id": "EvvvMYQYm2JY"
      },
      "source": [
        "# 4. Cluster NYC business trend using the optimal K that you found above."
      ]
    },
    {
      "cell_type": "code",
      "source": [
        "kmeanModel = KMeans(n_clusters=3)\n",
        "kmeanModel.fit(X_scaled)"
      ],
      "metadata": {
        "colab": {
          "base_uri": "https://localhost:8080/"
        },
        "id": "PfBfov8nP1qa",
        "outputId": "fcf458fc-83db-44df-9482-c05018be7537"
      },
      "execution_count": null,
      "outputs": [
        {
          "output_type": "execute_result",
          "data": {
            "text/plain": [
              "KMeans(n_clusters=3)"
            ]
          },
          "metadata": {},
          "execution_count": 73
        }
      ]
    },
    {
      "cell_type": "code",
      "execution_count": null,
      "metadata": {
        "id": "vI7b6EDxm2JZ",
        "colab": {
          "base_uri": "https://localhost:8080/",
          "height": 235
        },
        "outputId": "390b599e-67ff-478c-fe1c-bcce53028177"
      },
      "outputs": [
        {
          "output_type": "execute_result",
          "data": {
            "text/plain": [
              "     zip    94    95    96    97    98    99     0     1     2  ...     5  \\\n",
              "0  10001  6999  7088  7075  7154  7254  7233  7317  7188  7141  ...  7312   \n",
              "1  10002  1784  1819  1919  2049  2003  2085  2277  2543  2269  ...  2682   \n",
              "2  10003  3256  3377  3417  3535  3649  3659  3683  3602  3616  ...  3867   \n",
              "3  10004  1115  1124  1133  1173  1176  1233  1294  1247  1253  ...  1260   \n",
              "4  10004  1115  1124  1133  1173  1176  1233  1294  1247  1253  ...  1260   \n",
              "\n",
              "      6     7     8     9    10    11    12    13  group  \n",
              "0  7415  7549  7472  7305  7241  7227  7235  7273      1  \n",
              "1  2686  2685  2691  2775  2872  2912  2954  2988      2  \n",
              "2  3909  4049  4071  4099  4113  4159  4214  4277      2  \n",
              "3  1311  1370  1376  1379  1398  1404  1442  1479      2  \n",
              "4  1311  1370  1376  1379  1398  1404  1442  1479      2  \n",
              "\n",
              "[5 rows x 22 columns]"
            ],
            "text/html": [
              "\n",
              "  <div id=\"df-62e23f29-c392-4787-89fc-19103831372e\">\n",
              "    <div class=\"colab-df-container\">\n",
              "      <div>\n",
              "<style scoped>\n",
              "    .dataframe tbody tr th:only-of-type {\n",
              "        vertical-align: middle;\n",
              "    }\n",
              "\n",
              "    .dataframe tbody tr th {\n",
              "        vertical-align: top;\n",
              "    }\n",
              "\n",
              "    .dataframe thead th {\n",
              "        text-align: right;\n",
              "    }\n",
              "</style>\n",
              "<table border=\"1\" class=\"dataframe\">\n",
              "  <thead>\n",
              "    <tr style=\"text-align: right;\">\n",
              "      <th></th>\n",
              "      <th>zip</th>\n",
              "      <th>94</th>\n",
              "      <th>95</th>\n",
              "      <th>96</th>\n",
              "      <th>97</th>\n",
              "      <th>98</th>\n",
              "      <th>99</th>\n",
              "      <th>0</th>\n",
              "      <th>1</th>\n",
              "      <th>2</th>\n",
              "      <th>...</th>\n",
              "      <th>5</th>\n",
              "      <th>6</th>\n",
              "      <th>7</th>\n",
              "      <th>8</th>\n",
              "      <th>9</th>\n",
              "      <th>10</th>\n",
              "      <th>11</th>\n",
              "      <th>12</th>\n",
              "      <th>13</th>\n",
              "      <th>group</th>\n",
              "    </tr>\n",
              "  </thead>\n",
              "  <tbody>\n",
              "    <tr>\n",
              "      <th>0</th>\n",
              "      <td>10001</td>\n",
              "      <td>6999</td>\n",
              "      <td>7088</td>\n",
              "      <td>7075</td>\n",
              "      <td>7154</td>\n",
              "      <td>7254</td>\n",
              "      <td>7233</td>\n",
              "      <td>7317</td>\n",
              "      <td>7188</td>\n",
              "      <td>7141</td>\n",
              "      <td>...</td>\n",
              "      <td>7312</td>\n",
              "      <td>7415</td>\n",
              "      <td>7549</td>\n",
              "      <td>7472</td>\n",
              "      <td>7305</td>\n",
              "      <td>7241</td>\n",
              "      <td>7227</td>\n",
              "      <td>7235</td>\n",
              "      <td>7273</td>\n",
              "      <td>1</td>\n",
              "    </tr>\n",
              "    <tr>\n",
              "      <th>1</th>\n",
              "      <td>10002</td>\n",
              "      <td>1784</td>\n",
              "      <td>1819</td>\n",
              "      <td>1919</td>\n",
              "      <td>2049</td>\n",
              "      <td>2003</td>\n",
              "      <td>2085</td>\n",
              "      <td>2277</td>\n",
              "      <td>2543</td>\n",
              "      <td>2269</td>\n",
              "      <td>...</td>\n",
              "      <td>2682</td>\n",
              "      <td>2686</td>\n",
              "      <td>2685</td>\n",
              "      <td>2691</td>\n",
              "      <td>2775</td>\n",
              "      <td>2872</td>\n",
              "      <td>2912</td>\n",
              "      <td>2954</td>\n",
              "      <td>2988</td>\n",
              "      <td>2</td>\n",
              "    </tr>\n",
              "    <tr>\n",
              "      <th>2</th>\n",
              "      <td>10003</td>\n",
              "      <td>3256</td>\n",
              "      <td>3377</td>\n",
              "      <td>3417</td>\n",
              "      <td>3535</td>\n",
              "      <td>3649</td>\n",
              "      <td>3659</td>\n",
              "      <td>3683</td>\n",
              "      <td>3602</td>\n",
              "      <td>3616</td>\n",
              "      <td>...</td>\n",
              "      <td>3867</td>\n",
              "      <td>3909</td>\n",
              "      <td>4049</td>\n",
              "      <td>4071</td>\n",
              "      <td>4099</td>\n",
              "      <td>4113</td>\n",
              "      <td>4159</td>\n",
              "      <td>4214</td>\n",
              "      <td>4277</td>\n",
              "      <td>2</td>\n",
              "    </tr>\n",
              "    <tr>\n",
              "      <th>3</th>\n",
              "      <td>10004</td>\n",
              "      <td>1115</td>\n",
              "      <td>1124</td>\n",
              "      <td>1133</td>\n",
              "      <td>1173</td>\n",
              "      <td>1176</td>\n",
              "      <td>1233</td>\n",
              "      <td>1294</td>\n",
              "      <td>1247</td>\n",
              "      <td>1253</td>\n",
              "      <td>...</td>\n",
              "      <td>1260</td>\n",
              "      <td>1311</td>\n",
              "      <td>1370</td>\n",
              "      <td>1376</td>\n",
              "      <td>1379</td>\n",
              "      <td>1398</td>\n",
              "      <td>1404</td>\n",
              "      <td>1442</td>\n",
              "      <td>1479</td>\n",
              "      <td>2</td>\n",
              "    </tr>\n",
              "    <tr>\n",
              "      <th>4</th>\n",
              "      <td>10004</td>\n",
              "      <td>1115</td>\n",
              "      <td>1124</td>\n",
              "      <td>1133</td>\n",
              "      <td>1173</td>\n",
              "      <td>1176</td>\n",
              "      <td>1233</td>\n",
              "      <td>1294</td>\n",
              "      <td>1247</td>\n",
              "      <td>1253</td>\n",
              "      <td>...</td>\n",
              "      <td>1260</td>\n",
              "      <td>1311</td>\n",
              "      <td>1370</td>\n",
              "      <td>1376</td>\n",
              "      <td>1379</td>\n",
              "      <td>1398</td>\n",
              "      <td>1404</td>\n",
              "      <td>1442</td>\n",
              "      <td>1479</td>\n",
              "      <td>2</td>\n",
              "    </tr>\n",
              "  </tbody>\n",
              "</table>\n",
              "<p>5 rows × 22 columns</p>\n",
              "</div>\n",
              "      <button class=\"colab-df-convert\" onclick=\"convertToInteractive('df-62e23f29-c392-4787-89fc-19103831372e')\"\n",
              "              title=\"Convert this dataframe to an interactive table.\"\n",
              "              style=\"display:none;\">\n",
              "        \n",
              "  <svg xmlns=\"http://www.w3.org/2000/svg\" height=\"24px\"viewBox=\"0 0 24 24\"\n",
              "       width=\"24px\">\n",
              "    <path d=\"M0 0h24v24H0V0z\" fill=\"none\"/>\n",
              "    <path d=\"M18.56 5.44l.94 2.06.94-2.06 2.06-.94-2.06-.94-.94-2.06-.94 2.06-2.06.94zm-11 1L8.5 8.5l.94-2.06 2.06-.94-2.06-.94L8.5 2.5l-.94 2.06-2.06.94zm10 10l.94 2.06.94-2.06 2.06-.94-2.06-.94-.94-2.06-.94 2.06-2.06.94z\"/><path d=\"M17.41 7.96l-1.37-1.37c-.4-.4-.92-.59-1.43-.59-.52 0-1.04.2-1.43.59L10.3 9.45l-7.72 7.72c-.78.78-.78 2.05 0 2.83L4 21.41c.39.39.9.59 1.41.59.51 0 1.02-.2 1.41-.59l7.78-7.78 2.81-2.81c.8-.78.8-2.07 0-2.86zM5.41 20L4 18.59l7.72-7.72 1.47 1.35L5.41 20z\"/>\n",
              "  </svg>\n",
              "      </button>\n",
              "      \n",
              "  <style>\n",
              "    .colab-df-container {\n",
              "      display:flex;\n",
              "      flex-wrap:wrap;\n",
              "      gap: 12px;\n",
              "    }\n",
              "\n",
              "    .colab-df-convert {\n",
              "      background-color: #E8F0FE;\n",
              "      border: none;\n",
              "      border-radius: 50%;\n",
              "      cursor: pointer;\n",
              "      display: none;\n",
              "      fill: #1967D2;\n",
              "      height: 32px;\n",
              "      padding: 0 0 0 0;\n",
              "      width: 32px;\n",
              "    }\n",
              "\n",
              "    .colab-df-convert:hover {\n",
              "      background-color: #E2EBFA;\n",
              "      box-shadow: 0px 1px 2px rgba(60, 64, 67, 0.3), 0px 1px 3px 1px rgba(60, 64, 67, 0.15);\n",
              "      fill: #174EA6;\n",
              "    }\n",
              "\n",
              "    [theme=dark] .colab-df-convert {\n",
              "      background-color: #3B4455;\n",
              "      fill: #D2E3FC;\n",
              "    }\n",
              "\n",
              "    [theme=dark] .colab-df-convert:hover {\n",
              "      background-color: #434B5C;\n",
              "      box-shadow: 0px 1px 3px 1px rgba(0, 0, 0, 0.15);\n",
              "      filter: drop-shadow(0px 1px 2px rgba(0, 0, 0, 0.3));\n",
              "      fill: #FFFFFF;\n",
              "    }\n",
              "  </style>\n",
              "\n",
              "      <script>\n",
              "        const buttonEl =\n",
              "          document.querySelector('#df-62e23f29-c392-4787-89fc-19103831372e button.colab-df-convert');\n",
              "        buttonEl.style.display =\n",
              "          google.colab.kernel.accessAllowed ? 'block' : 'none';\n",
              "\n",
              "        async function convertToInteractive(key) {\n",
              "          const element = document.querySelector('#df-62e23f29-c392-4787-89fc-19103831372e');\n",
              "          const dataTable =\n",
              "            await google.colab.kernel.invokeFunction('convertToInteractive',\n",
              "                                                     [key], {});\n",
              "          if (!dataTable) return;\n",
              "\n",
              "          const docLinkHtml = 'Like what you see? Visit the ' +\n",
              "            '<a target=\"_blank\" href=https://colab.research.google.com/notebooks/data_table.ipynb>data table notebook</a>'\n",
              "            + ' to learn more about interactive tables.';\n",
              "          element.innerHTML = '';\n",
              "          dataTable['output_type'] = 'display_data';\n",
              "          await google.colab.output.renderOutput(dataTable, element);\n",
              "          const docLink = document.createElement('div');\n",
              "          docLink.innerHTML = docLinkHtml;\n",
              "          element.appendChild(docLink);\n",
              "        }\n",
              "      </script>\n",
              "    </div>\n",
              "  </div>\n",
              "  "
            ]
          },
          "metadata": {},
          "execution_count": 75
        }
      ],
      "source": [
        "group_km=kmeanModel.fit_predict(X_scaled)\n",
        "nyc_business['group']=group_km\n",
        "nyc_business.head()"
      ]
    },
    {
      "cell_type": "markdown",
      "metadata": {
        "id": "AboO3m1im2JZ"
      },
      "source": [
        "# 5. Plot the final clustering result (timeseries plot with mean center lines) using the optimal K"
      ]
    },
    {
      "cell_type": "code",
      "execution_count": null,
      "metadata": {
        "id": "dSDLJFvWm2Ja"
      },
      "outputs": [],
      "source": [
        "#repeat the same elow method process but with the clustered NYC businesses\n",
        "\n",
        "from matplotlib import pyplot\n"
      ]
    },
    {
      "cell_type": "code",
      "source": [
        "group=nyc_business.groupby(by=[\"group\"]).mean()"
      ],
      "metadata": {
        "id": "SIwWOPiFYRw3"
      },
      "execution_count": null,
      "outputs": []
    },
    {
      "cell_type": "code",
      "source": [
        "print(plot)"
      ],
      "metadata": {
        "colab": {
          "base_uri": "https://localhost:8080/"
        },
        "id": "rGyHPK7xZWVC",
        "outputId": "48d33e25-a3c7-4d0e-ea6c-96e6c5002db0"
      },
      "execution_count": null,
      "outputs": [
        {
          "output_type": "stream",
          "name": "stdout",
          "text": [
            "     0     1     2     3     4     5     6     7     8     9    ...  233  234  \\\n",
            "94  6999  1784  3256  1115  1115  1115  1115  1076  1061  1307  ...   51    2   \n",
            "95  7088  1819  3377  1124  1124  1124  1124  1109  1002  1274  ...   50    2   \n",
            "96  7075  1919  3417  1133  1133  1133  1133  1216   969  1254  ...   53    2   \n",
            "97  7154  2049  3535  1173  1173  1173  1173  1227   990  1287  ...   51    3   \n",
            "98  7254  2003  3649  1176  1176  1176  1176  1270  1030  1282  ...   51    3   \n",
            "99  7233  2085  3659  1233  1233  1233  1233  1242  1059  1303  ...   58    3   \n",
            "0   7317  2277  3683  1294  1294  1294  1294  1287  1067  1327  ...   65    4   \n",
            "1   7188  2543  3602  1247  1247  1247  1247  1249  1026  1233  ...   57    5   \n",
            "2   7141  2269  3616  1253  1253  1253  1253  1244   934  1620  ...   78    5   \n",
            "3   7084  2402  3704  1252  1252  1252  1252  1200   862  1603  ...   74    5   \n",
            "4   7370  2551  3776  1283  1283  1283  1283  1226   869  1635  ...   84    5   \n",
            "5   7312  2682  3867  1260  1260  1260  1260  1214   870  1311  ...   82    3   \n",
            "6   7415  2686  3909  1311  1311  1311  1311  1259   874  1292  ...   80    3   \n",
            "7   7549  2685  4049  1370  1370  1370  1370  1273   863  1284  ...   84    3   \n",
            "8   7472  2691  4071  1376  1376  1376  1376  1291   845  1313  ...   90    2   \n",
            "9   7305  2775  4099  1379  1379  1379  1379  1274   828  1277  ...   92    2   \n",
            "10  7241  2872  4113  1398  1398  1398  1398  1266   843  1330  ...   98    3   \n",
            "11  7227  2912  4159  1404  1404  1404  1404  1301   834  1368  ...  101    2   \n",
            "12  7235  2954  4214  1442  1442  1442  1442  1273   850  1400  ...   95    3   \n",
            "13  7273  2988  4277  1479  1479  1479  1479  1296   852  1424  ...   99    4   \n",
            "\n",
            "    235  236  237  238  239  240  241  242  \n",
            "94  401   66   95   95   95   95  294   33  \n",
            "95  394   67   90   90   90   90  285   32  \n",
            "96  406   71   88   88   88   88  287   34  \n",
            "97  399   73   83   83   83   83  294   38  \n",
            "98  387   69   79   79   79   79  291   38  \n",
            "99  388   73   79   79   79   79  284   38  \n",
            "0   376   79   79   79   79   79  288   39  \n",
            "1   394   71   89   89   89   89  301   40  \n",
            "2   409   75   94   94   94   94  302   37  \n",
            "3   426   74   98   98   98   98  302   43  \n",
            "4   436   68   96   96   96   96  303   43  \n",
            "5   449   65   97   97   97   97  317   42  \n",
            "6   441   60  104  104  104  104  315   49  \n",
            "7   447   69  110  110  110  110  332   48  \n",
            "8   446   73  125  125  125  125  328   49  \n",
            "9   461   83  131  131  131  131  317   51  \n",
            "10  490   90  132  132  132  132  330   48  \n",
            "11  486   90  131  131  131  131  326   46  \n",
            "12  488   95  129  129  129  129  326   49  \n",
            "13  510   96  127  127  127  127  327   40  \n",
            "\n",
            "[20 rows x 243 columns]\n"
          ]
        }
      ]
    },
    {
      "cell_type": "code",
      "source": [
        "#plot=nyc_business.drop(columns=[\"zip\",\"group\"]).transpose()\n",
        "plot=group.transpose()"
      ],
      "metadata": {
        "id": "qeSayudcV1y1"
      },
      "execution_count": null,
      "outputs": []
    },
    {
      "cell_type": "code",
      "source": [
        "plot.plot()"
      ],
      "metadata": {
        "colab": {
          "base_uri": "https://localhost:8080/",
          "height": 283
        },
        "id": "qyx_y-qqWqET",
        "outputId": "c49aec1e-f496-4811-b276-9c055b056154"
      },
      "execution_count": null,
      "outputs": [
        {
          "output_type": "execute_result",
          "data": {
            "text/plain": [
              "<matplotlib.axes._subplots.AxesSubplot at 0x7f6234903a10>"
            ]
          },
          "metadata": {},
          "execution_count": 91
        },
        {
          "output_type": "display_data",
          "data": {
            "text/plain": [
              "<Figure size 432x288 with 1 Axes>"
            ],
            "image/png": "[encoded data removed]"
          },
          "metadata": {
            "needs_background": "light"
          }
        }
      ]
    },
    {
      "cell_type": "markdown",
      "metadata": {
        "id": "MSNhWglxm2Ja"
      },
      "source": [
        "# 6. Mapping your clustering result and explain your findings\n",
        "* New York City zipcode data (You will need to download a shapdfile here https://data.cityofnewyork.us/Business/Zip-Code-Boundaries/i8iw-xf4u or you can use 'nyc-zip-code-tabulation-areas-polygons.geojson' provided)\n",
        "* GeoPandas is required for this task!"
      ]
    },
    {
      "cell_type": "code",
      "execution_count": null,
      "metadata": {
        "id": "I2FNcO2Zm2Jb"
      },
      "outputs": [],
      "source": []
    }
  ],
  "metadata": {
    "kernelspec": {
      "display_name": "Python 3",
      "language": "python",
      "name": "python3"
    },
    "language_info": {
      "codemirror_mode": {
        "name": "ipython",
        "version": 3
      },
      "file_extension": ".py",
      "mimetype": "text/x-python",
      "name": "python",
      "nbconvert_exporter": "python",
      "pygments_lexer": "ipython3",
      "version": "3.8.8"
    },
    "colab": {
      "provenance": []
    }
  },
  "nbformat": 4,
  "nbformat_minor": 0
}